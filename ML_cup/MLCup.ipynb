{
 "cells": [
  {
   "cell_type": "code",
   "execution_count": 1,
   "outputs": [],
   "source": [
    "import dataset_utils as dataset\n",
    "\n",
    "import pandas as pd\n",
    "import numpy as np\n",
    "import matplotlib.pyplot as plt\n"
   ],
   "metadata": {
    "collapsed": false,
    "ExecuteTime": {
     "end_time": "2024-01-09T14:25:10.700649Z",
     "start_time": "2024-01-09T14:25:05.809998600Z"
    }
   },
   "id": "ea57e400be72490a"
  },
  {
   "cell_type": "code",
   "execution_count": 2,
   "outputs": [],
   "source": [
    "from sklearn.preprocessing import StandardScaler\n",
    "\n",
    "#column_names = ['ID', \n",
    "#                'INPUT_1', 'INPUT_2', 'INPUT_3', 'INPUT_4', 'INPUT_5', 'INPUT_6', 'INPUT_7', 'INPUT_8', 'INPUT_9', 'INPUT_10',\n",
    "#                'TARGET_x', 'TARGET_y', 'TARGET_z']\n",
    "#dataframe = pd.read_csv(\"../data/ML-CUP23-TR.csv\", sep=',', comment='#', names=column_names, index_col= 'ID')\n",
    "#dataframe.head()\n",
    "\n",
    "dev_data = dataset.load_dataset(\"../data/ML-CUP23-TR.csv\")\n",
    "test_data = dataset.load_dataset(\"../data/ML-CUP23-TS.csv\")\n",
    "\n",
    "# arange the dataset into inputs and labels\n",
    "from dataset_utils import skl_arange_dataset\n",
    "\n",
    "X_dev, y_dev, X_test, train_folds, val_folds = skl_arange_dataset(dev_data, test_data, scaler=StandardScaler(), folds=5)"
   ],
   "metadata": {
    "collapsed": false,
    "ExecuteTime": {
     "end_time": "2024-01-09T14:25:10.736676900Z",
     "start_time": "2024-01-09T14:25:10.704651500Z"
    }
   },
   "id": "cb737dabd7afaf3d"
  },
  {
   "cell_type": "markdown",
   "source": [
    "# NeuralNet with Torch"
   ],
   "metadata": {
    "collapsed": false
   },
   "id": "d00e7e7b71500f4b"
  },
  {
   "cell_type": "code",
   "execution_count": 3,
   "outputs": [],
   "source": [
    "import torch as t\n",
    "from torch.utils.data import DataLoader\n",
    "from ML_cup.dataset_utils import CupDataset\n",
    "from ML_cup.pytorch import *\n",
    "\n",
    "# Split the dev data into train and validation with k-fold cross validation and minibatch\n",
    "train_loaders, val_loaders = dataset.torch_k_fold(dataset=dev_data, folds=5, batch_size=32)"
   ],
   "metadata": {
    "collapsed": false,
    "ExecuteTime": {
     "end_time": "2024-01-09T14:25:10.773651100Z",
     "start_time": "2024-01-09T14:25:10.734651600Z"
    }
   },
   "id": "d87b9ed20a04d54c"
  },
  {
   "cell_type": "code",
   "execution_count": 4,
   "outputs": [],
   "source": [
    "parameters = [\n",
    "    {'optimizer': 'Adam', 'lr': [0.001, 0.0005, 0.0001], 'weight_decay': [0.0, 0.0001, 0.0005]},\n",
    "    {'optimizer': 'SGD', 'lr': [0.01, 0.001, 0.0001], 'weight_decay': [0.0, 0.001, 0.0005], 'momentum': [0.9, 0.75],\n",
    "     'nesterov': [True, False]}\n",
    "]"
   ],
   "metadata": {
    "collapsed": false,
    "ExecuteTime": {
     "end_time": "2024-01-09T14:25:10.787650600Z",
     "start_time": "2024-01-09T14:25:10.766651800Z"
    }
   },
   "id": "f94c5114e70f2e27"
  },
  {
   "cell_type": "code",
   "outputs": [],
   "source": [
    "lr_scheduler_params = {'mode': 'min', 'factor': 0.75, 'patience': 5, 'cooldown': 3, 'verbose': False, 'min_lr': 1e-6}"
   ],
   "metadata": {
    "collapsed": false,
    "ExecuteTime": {
     "end_time": "2024-01-09T14:25:10.808680Z",
     "start_time": "2024-01-09T14:25:10.783652400Z"
    }
   },
   "id": "ecef18709f6a3628",
   "execution_count": 5
  },
  {
   "cell_type": "code",
   "outputs": [
    {
     "name": "stdout",
     "output_type": "stream",
     "text": [
      "New Best Parameters: {'lr': 0.001, 'weight_decay': 0.0, 'optimizer': 'Adam'},Train Loss: 1.5790822277069092, Val Loss: 1.7854856252670288\n",
      "New Best Parameters: {'lr': 0.001, 'weight_decay': 0.0001, 'optimizer': 'Adam'},Train Loss: 1.57512291431427, Val Loss: 1.7436269657952448\n",
      "New Best Parameters: {'lr': 0.001, 'weight_decay': 0.0005, 'optimizer': 'Adam'},Train Loss: 1.526120780944824, Val Loss: 1.7229763065065657\n",
      "New Best Parameters: {'lr': 0.01, 'weight_decay': 0.0, 'momentum': 0.9, 'nesterov': True, 'optimizer': 'SGD'},Train Loss: 0.8023837599754333, Val Loss: 1.029107589381082\n",
      "Best Parameters: {'lr': 0.01, 'weight_decay': 0.0, 'momentum': 0.9, 'nesterov': True, 'optimizer': 'SGD'}, Train Loss: 0.8023837599754333, Val Loss: 1.029107589381082\n"
     ]
    }
   ],
   "source": [
    "# perform grid search to find the best parameters\n",
    "best_pytorch_params = grid_search(model_builder=MLP, parameters=parameters, train_loader=train_loaders,\n",
    "                                  val_loader=val_loaders, scheduler=('ReduceLROnPlateau', lr_scheduler_params),\n",
    "                                  verbose=False)\n"
   ],
   "metadata": {
    "collapsed": false,
    "ExecuteTime": {
     "end_time": "2024-01-09T14:43:34.422808200Z",
     "start_time": "2024-01-09T14:25:10.800653200Z"
    }
   },
   "id": "558ed4d39dc13922",
   "execution_count": 6
  },
  {
   "cell_type": "code",
   "outputs": [],
   "source": [
    "# best_pytorch_params = {'lr': 0.001, 'weight_decay': 0.0005, 'momentum': 0.9, 'nesterov': False, 'optimizer': 'SGD'}"
   ],
   "metadata": {
    "collapsed": false,
    "ExecuteTime": {
     "end_time": "2024-01-09T14:43:34.433809300Z",
     "start_time": "2024-01-09T14:43:34.411808800Z"
    }
   },
   "id": "da837884bba9dd4a",
   "execution_count": 7
  },
  {
   "cell_type": "code",
   "outputs": [
    {
     "name": "stdout",
     "output_type": "stream",
     "text": [
      "Fold: 0\n",
      "Train Epoch: 0 Loss: 42.5230679321289 Val Loss: 42.99762943812779\n",
      "Train Epoch: 1 Loss: 40.23488540649414 Val Loss: 36.52453831263951\n",
      "Train Epoch: 2 Loss: 30.339356460571288 Val Loss: 27.59323992047991\n",
      "Train Epoch: 3 Loss: 25.303926315307617 Val Loss: 21.54207502092634\n",
      "Train Epoch: 4 Loss: 13.585303173065185 Val Loss: 8.103151798248291\n",
      "Train Epoch: 5 Loss: 8.061449813842774 Val Loss: 7.906452860151019\n",
      "Train Epoch: 6 Loss: 6.8372447967529295 Val Loss: 6.100265979766846\n",
      "Train Epoch: 7 Loss: 6.150115165710449 Val Loss: 5.687727928161621\n",
      "Train Epoch: 8 Loss: 5.483659839630127 Val Loss: 6.214503424508231\n",
      "Train Epoch: 9 Loss: 5.457449111938477 Val Loss: 4.456516776766096\n",
      "Train Epoch: 10 Loss: 5.1021081161499025 Val Loss: 6.393258231026786\n",
      "Train Epoch: 11 Loss: 4.774245004653931 Val Loss: 4.2205042498452325\n",
      "Train Epoch: 12 Loss: 4.39469482421875 Val Loss: 3.5183589458465576\n",
      "Train Epoch: 13 Loss: 4.705772027969361 Val Loss: 3.9287780693599155\n",
      "Train Epoch: 14 Loss: 4.45802191734314 Val Loss: 3.6331045968191966\n",
      "Train Epoch: 15 Loss: 4.164989309310913 Val Loss: 4.153901032039097\n",
      "Train Epoch: 16 Loss: 4.456679992675781 Val Loss: 3.162456750869751\n",
      "Train Epoch: 17 Loss: 4.065209112167358 Val Loss: 4.047897815704346\n",
      "Train Epoch: 18 Loss: 4.266933403015137 Val Loss: 3.6901537350245883\n",
      "Train Epoch: 19 Loss: 3.9664492416381836 Val Loss: 6.1969194412231445\n",
      "Train Epoch: 20 Loss: 4.080545654296875 Val Loss: 3.087296111243112\n",
      "Train Epoch: 21 Loss: 3.990493211746216 Val Loss: 3.288109983716692\n",
      "Train Epoch: 22 Loss: 4.089452381134033 Val Loss: 4.230297429221017\n",
      "Train Epoch: 23 Loss: 3.725782709121704 Val Loss: 4.233873162950788\n",
      "Train Epoch: 24 Loss: 3.9427638149261472 Val Loss: 5.6833407538277765\n",
      "Train Epoch: 25 Loss: 3.724365930557251 Val Loss: 3.4246468544006348\n",
      "Epoch 00027: reducing learning rate of group 0 to 7.5000e-03.\n",
      "Train Epoch: 26 Loss: 3.802096471786499 Val Loss: 4.95390020098005\n",
      "Train Epoch: 27 Loss: 2.9739097213745116 Val Loss: 3.824492965425764\n",
      "Train Epoch: 28 Loss: 2.8764515590667723 Val Loss: 2.5663792405809676\n",
      "Train Epoch: 29 Loss: 2.6653112888336183 Val Loss: 2.560399157660348\n",
      "Train Epoch: 30 Loss: 2.715205879211426 Val Loss: 2.8387653827667236\n",
      "Train Epoch: 31 Loss: 2.9115197134017943 Val Loss: 3.200885602406093\n",
      "Train Epoch: 32 Loss: 2.7307351350784304 Val Loss: 2.498335531779698\n",
      "Train Epoch: 33 Loss: 2.864478197097778 Val Loss: 3.069422960281372\n",
      "Train Epoch: 34 Loss: 2.7969952487945555 Val Loss: 3.6931521211351668\n",
      "Train Epoch: 35 Loss: 2.8639422130584715 Val Loss: 3.851515463420323\n",
      "Train Epoch: 36 Loss: 2.675278654098511 Val Loss: 3.589959076472691\n",
      "Train Epoch: 37 Loss: 2.906854662895203 Val Loss: 3.1148195266723633\n",
      "Epoch 00039: reducing learning rate of group 0 to 5.6250e-03.\n",
      "Train Epoch: 38 Loss: 2.792486853599548 Val Loss: 2.61649329321725\n",
      "Train Epoch: 39 Loss: 2.080080189704895 Val Loss: 2.3951860325677052\n",
      "Train Epoch: 40 Loss: 2.0229132699966432 Val Loss: 2.8249361515045166\n",
      "Train Epoch: 41 Loss: 2.0765326595306397 Val Loss: 2.0793844631740024\n",
      "Train Epoch: 42 Loss: 1.9951841449737548 Val Loss: 2.2876681770597185\n",
      "Train Epoch: 43 Loss: 2.0711207723617555 Val Loss: 1.8483401196343558\n",
      "Train Epoch: 44 Loss: 2.1919030380249023 Val Loss: 2.114093065261841\n",
      "Train Epoch: 45 Loss: 1.9988873529434203 Val Loss: 1.9356991733823503\n",
      "Train Epoch: 46 Loss: 2.1680727577209473 Val Loss: 2.644499199731009\n",
      "Train Epoch: 47 Loss: 1.9745614862442016 Val Loss: 1.6294633660997664\n",
      "Train Epoch: 48 Loss: 1.8621491765975953 Val Loss: 2.6703126089913503\n",
      "Train Epoch: 49 Loss: 2.030003228187561 Val Loss: 2.6244727543422153\n",
      "Train Epoch: 50 Loss: 2.11511287689209 Val Loss: 1.9252301284245081\n",
      "Train Epoch: 51 Loss: 1.9329146099090577 Val Loss: 2.0695760250091553\n",
      "Train Epoch: 52 Loss: 1.9341333770751954 Val Loss: 2.033121773174831\n",
      "Epoch 00054: reducing learning rate of group 0 to 4.2188e-03.\n",
      "Train Epoch: 53 Loss: 1.9881815910339355 Val Loss: 2.1270128999437605\n",
      "Train Epoch: 54 Loss: 1.5840122413635254 Val Loss: 1.6334013768604823\n",
      "Train Epoch: 55 Loss: 1.5346926736831665 Val Loss: 1.847405195236206\n",
      "Train Epoch: 56 Loss: 1.50981586933136 Val Loss: 2.5152411801474437\n",
      "Train Epoch: 57 Loss: 1.667243514060974 Val Loss: 1.49222651549748\n",
      "Train Epoch: 58 Loss: 1.4592941761016847 Val Loss: 2.144211837223598\n",
      "Train Epoch: 59 Loss: 1.539443097114563 Val Loss: 1.7974118164607458\n",
      "Train Epoch: 60 Loss: 1.618135838508606 Val Loss: 1.56621709891728\n",
      "Train Epoch: 61 Loss: 1.543136010169983 Val Loss: 1.4789152996880668\n",
      "Train Epoch: 62 Loss: 1.502931056022644 Val Loss: 1.5551045111247472\n",
      "Train Epoch: 63 Loss: 1.5784536933898925 Val Loss: 1.7035833767482214\n",
      "Train Epoch: 64 Loss: 1.5104258060455322 Val Loss: 2.073452149118696\n",
      "Train Epoch: 65 Loss: 1.5466577339172363 Val Loss: 1.772189702306475\n",
      "Train Epoch: 66 Loss: 1.5626105952262879 Val Loss: 1.6145555121558053\n",
      "Epoch 00068: reducing learning rate of group 0 to 3.1641e-03.\n",
      "Train Epoch: 67 Loss: 1.6023890495300293 Val Loss: 1.4996427978788103\n",
      "Train Epoch: 68 Loss: 1.2439351677894592 Val Loss: 1.329057080405099\n",
      "Train Epoch: 69 Loss: 1.209244861602783 Val Loss: 1.5400007622582572\n",
      "Train Epoch: 70 Loss: 1.2504191088676453 Val Loss: 1.696968981197902\n",
      "Train Epoch: 71 Loss: 1.1856038331985475 Val Loss: 1.8934921366827828\n",
      "Train Epoch: 72 Loss: 1.2607455563545227 Val Loss: 1.4405841316495622\n",
      "Train Epoch: 73 Loss: 1.2350923705101013 Val Loss: 1.2148149694715227\n",
      "Train Epoch: 74 Loss: 1.2839922666549684 Val Loss: 1.71593063218253\n",
      "Train Epoch: 75 Loss: 1.2325498962402344 Val Loss: 1.3291405269077845\n",
      "Train Epoch: 76 Loss: 1.1392637658119202 Val Loss: 1.3598475796835763\n",
      "Train Epoch: 77 Loss: 1.257627742290497 Val Loss: 1.611770578793117\n",
      "Train Epoch: 78 Loss: 1.1986167764663695 Val Loss: 1.4272167342049735\n",
      "Epoch 00080: reducing learning rate of group 0 to 2.3730e-03.\n",
      "Train Epoch: 79 Loss: 1.2084621143341066 Val Loss: 1.522717765399388\n",
      "Train Epoch: 80 Loss: 1.0078971362113953 Val Loss: 1.1470593469483512\n",
      "Train Epoch: 81 Loss: 1.0529119277000427 Val Loss: 1.1628629990986414\n",
      "Train Epoch: 82 Loss: 0.9732597970962524 Val Loss: 1.080723524093628\n",
      "Train Epoch: 83 Loss: 0.9686539769172668 Val Loss: 1.2862743990761893\n",
      "Train Epoch: 84 Loss: 0.9975928115844727 Val Loss: 1.3228933470589774\n",
      "Train Epoch: 85 Loss: 0.9403401160240173 Val Loss: 1.1841466597148351\n",
      "Train Epoch: 86 Loss: 0.9826948690414429 Val Loss: 1.1768402712685722\n",
      "Train Epoch: 87 Loss: 0.905525119304657 Val Loss: 1.2245945930480957\n",
      "Epoch 00089: reducing learning rate of group 0 to 1.7798e-03.\n",
      "Train Epoch: 88 Loss: 0.9289557719230652 Val Loss: 1.152147216456277\n",
      "Train Epoch: 89 Loss: 0.9003870177268982 Val Loss: 1.0170217156410217\n",
      "Train Epoch: 90 Loss: 0.8321231174468994 Val Loss: 1.0783902406692505\n",
      "Train Epoch: 91 Loss: 0.857939133644104 Val Loss: 1.0937289425304957\n",
      "Train Epoch: 92 Loss: 0.8080033183097839 Val Loss: 0.9963853103773934\n",
      "Train Epoch: 93 Loss: 0.8343398475646973 Val Loss: 1.2347254582813807\n",
      "Train Epoch: 94 Loss: 0.8550331377983094 Val Loss: 1.0185864993504115\n",
      "Train Epoch: 95 Loss: 0.8216872096061707 Val Loss: 1.1610401017325265\n",
      "Train Epoch: 96 Loss: 0.7765727376937867 Val Loss: 1.0697328874043055\n",
      "Train Epoch: 97 Loss: 0.8140956115722656 Val Loss: 1.0277188760893685\n",
      "Epoch 00099: reducing learning rate of group 0 to 1.3348e-03.\n",
      "Train Epoch: 98 Loss: 0.8372081255912781 Val Loss: 1.0315493430410112\n",
      "Train Epoch: 99 Loss: 0.7460740971565246 Val Loss: 1.0019387432507105\n",
      "Train Epoch: 100 Loss: 0.7371296548843383 Val Loss: 1.0071736829621452\n",
      "Train Epoch: 101 Loss: 0.7493730854988098 Val Loss: 0.9778837987354824\n",
      "Train Epoch: 102 Loss: 0.7233115887641907 Val Loss: 1.0882360764912196\n",
      "Train Epoch: 103 Loss: 0.7505512857437133 Val Loss: 1.0740540708814348\n",
      "Train Epoch: 104 Loss: 0.7743750357627869 Val Loss: 0.9866997514452253\n",
      "Train Epoch: 105 Loss: 0.7604395818710327 Val Loss: 0.9710800647735596\n",
      "Train Epoch: 106 Loss: 0.7149614214897155 Val Loss: 0.968482392174857\n",
      "Train Epoch: 107 Loss: 0.7425782203674316 Val Loss: 1.032906642981938\n",
      "Train Epoch: 108 Loss: 0.720434091091156 Val Loss: 0.9571847234453473\n",
      "Train Epoch: 109 Loss: 0.7104658651351928 Val Loss: 0.9662077682358878\n",
      "Train Epoch: 110 Loss: 0.7265655732154847 Val Loss: 0.9523822750364032\n",
      "Train Epoch: 111 Loss: 0.731628725528717 Val Loss: 1.0074791823114668\n",
      "Train Epoch: 112 Loss: 0.7379628324508667 Val Loss: 0.9981647985322135\n",
      "Train Epoch: 113 Loss: 0.7105002760887146 Val Loss: 1.0625964828899928\n",
      "Train Epoch: 114 Loss: 0.7140586423873901 Val Loss: 0.9881768226623535\n",
      "Train Epoch: 115 Loss: 0.73326176404953 Val Loss: 0.9879865731511798\n",
      "Train Epoch: 116 Loss: 0.7173952865600586 Val Loss: 0.9508247545787266\n",
      "Train Epoch: 117 Loss: 0.7182867002487182 Val Loss: 1.0199407849993025\n",
      "Train Epoch: 118 Loss: 0.7380711841583252 Val Loss: 0.9752141407557896\n",
      "Train Epoch: 119 Loss: 0.6880415105819702 Val Loss: 1.0531570059912545\n",
      "Train Epoch: 120 Loss: 0.7280336356163025 Val Loss: 0.9531556623322623\n",
      "Train Epoch: 121 Loss: 0.7137323760986328 Val Loss: 0.9492999911308289\n",
      "Train Epoch: 122 Loss: 0.7077355003356933 Val Loss: 0.9514339991978237\n",
      "Train Epoch: 123 Loss: 0.6891052532196045 Val Loss: 0.9304417627198356\n",
      "Train Epoch: 124 Loss: 0.6950079393386841 Val Loss: 0.9774861080305917\n",
      "Train Epoch: 125 Loss: 0.7115881133079529 Val Loss: 0.9456155981336322\n",
      "Train Epoch: 126 Loss: 0.7018154346942902 Val Loss: 1.0373750073569161\n",
      "Train Epoch: 127 Loss: 0.6919706082344055 Val Loss: 1.0604382583073206\n",
      "Train Epoch: 128 Loss: 0.6847005963325501 Val Loss: 1.0160589218139648\n",
      "Epoch 00130: reducing learning rate of group 0 to 1.0011e-03.\n",
      "Train Epoch: 129 Loss: 0.6908982360363006 Val Loss: 0.9459055491856166\n",
      "Train Epoch: 130 Loss: 0.6403027999401093 Val Loss: 0.9271386180605207\n",
      "Train Epoch: 131 Loss: 0.6486090612411499 Val Loss: 0.9109564082963126\n",
      "Train Epoch: 132 Loss: 0.6506770646572113 Val Loss: 0.9659230027879987\n",
      "Train Epoch: 133 Loss: 0.6610873007774353 Val Loss: 0.9515681266784668\n",
      "Train Epoch: 134 Loss: 0.6601883149147034 Val Loss: 0.9890848057610648\n",
      "Train Epoch: 135 Loss: 0.6626947140693664 Val Loss: 0.927068931715829\n",
      "Train Epoch: 136 Loss: 0.6595529007911682 Val Loss: 0.898070752620697\n",
      "Train Epoch: 137 Loss: 0.6527675151824951 Val Loss: 0.9045275024005345\n",
      "Train Epoch: 138 Loss: 0.6396241164207459 Val Loss: 0.9383360317775181\n",
      "Train Epoch: 139 Loss: 0.6422769284248352 Val Loss: 0.9080256649426052\n",
      "Train Epoch: 140 Loss: 0.6309241962432861 Val Loss: 0.9556700246674674\n",
      "Train Epoch: 141 Loss: 0.6555948257446289 Val Loss: 0.9217255796704974\n",
      "Epoch 00143: reducing learning rate of group 0 to 7.5085e-04.\n",
      "Train Epoch: 142 Loss: 0.6471530771255494 Val Loss: 0.9129540920257568\n",
      "Train Epoch: 143 Loss: 0.6231571519374848 Val Loss: 0.90159330197743\n",
      "Train Epoch: 144 Loss: 0.6204452884197235 Val Loss: 0.9009754657745361\n",
      "Train Epoch: 145 Loss: 0.6105992531776429 Val Loss: 0.891728128705706\n",
      "Train Epoch: 146 Loss: 0.6192406499385834 Val Loss: 0.8868344937052045\n",
      "Train Epoch: 147 Loss: 0.6135280728340149 Val Loss: 0.9067660740443638\n",
      "Train Epoch: 148 Loss: 0.6046872282028198 Val Loss: 0.8782433015959603\n",
      "Train Epoch: 149 Loss: 0.6088992977142333 Val Loss: 0.8975160121917725\n",
      "Train Epoch: 150 Loss: 0.6070917558670044 Val Loss: 0.8977938549859183\n",
      "Train Epoch: 151 Loss: 0.6049611842632294 Val Loss: 0.8887434346335275\n",
      "Train Epoch: 152 Loss: 0.6114500498771668 Val Loss: 0.9282804216657367\n",
      "Train Epoch: 153 Loss: 0.6123092865943909 Val Loss: 0.8838756510189602\n",
      "Train Epoch: 154 Loss: 0.6029070460796356 Val Loss: 0.8730011752673558\n",
      "Train Epoch: 155 Loss: 0.5982459723949433 Val Loss: 0.8716444884027753\n",
      "Train Epoch: 156 Loss: 0.5967059421539307 Val Loss: 0.8786164351872036\n",
      "Train Epoch: 157 Loss: 0.5887659525871277 Val Loss: 0.8925412978444781\n",
      "Train Epoch: 158 Loss: 0.5999322772026062 Val Loss: 0.8798435926437378\n",
      "Train Epoch: 159 Loss: 0.594164273738861 Val Loss: 0.8757492985044207\n",
      "Train Epoch: 160 Loss: 0.6075780701637268 Val Loss: 0.8835504821368626\n",
      "Epoch 00162: reducing learning rate of group 0 to 5.6314e-04.\n",
      "Train Epoch: 161 Loss: 0.5952174723148346 Val Loss: 0.8832043664796012\n",
      "Train Epoch: 162 Loss: 0.5755247068405152 Val Loss: 0.8702099408422198\n",
      "Train Epoch: 163 Loss: 0.5723418962955474 Val Loss: 0.8658481240272522\n",
      "Train Epoch: 164 Loss: 0.5753065145015717 Val Loss: 0.8662020904677254\n",
      "Train Epoch: 165 Loss: 0.5788649451732636 Val Loss: 0.8508801630565098\n",
      "Train Epoch: 166 Loss: 0.5743961179256439 Val Loss: 0.8693236282893589\n",
      "Train Epoch: 167 Loss: 0.5766103720664978 Val Loss: 0.8746363946369716\n",
      "Train Epoch: 168 Loss: 0.5738162851333618 Val Loss: 0.869933409350259\n",
      "Train Epoch: 169 Loss: 0.5794711220264435 Val Loss: 0.8645113110542297\n",
      "Train Epoch: 170 Loss: 0.5747736811637878 Val Loss: 0.8672278012548175\n",
      "Train Epoch: 171 Loss: 0.5677830505371094 Val Loss: 0.8422367913382394\n",
      "Train Epoch: 172 Loss: 0.5629556202888488 Val Loss: 0.8496880531311035\n",
      "Train Epoch: 173 Loss: 0.5680721867084503 Val Loss: 0.8621631264686584\n",
      "Train Epoch: 174 Loss: 0.5711459290981292 Val Loss: 0.8605216315814427\n",
      "Train Epoch: 175 Loss: 0.5645027899742127 Val Loss: 0.869091238294329\n",
      "Train Epoch: 176 Loss: 0.5688266491889954 Val Loss: 0.8591703517096383\n",
      "Epoch 00178: reducing learning rate of group 0 to 4.2235e-04.\n",
      "Train Epoch: 177 Loss: 0.560151869058609 Val Loss: 0.8664595655032566\n",
      "Train Epoch: 178 Loss: 0.5577132177352905 Val Loss: 0.8423217024121966\n",
      "Train Epoch: 179 Loss: 0.5547039389610291 Val Loss: 0.8482374123164585\n",
      "Train Epoch: 180 Loss: 0.5528789937496186 Val Loss: 0.8770930426461356\n",
      "Train Epoch: 181 Loss: 0.5600520515441895 Val Loss: 0.8532374926975795\n",
      "Train Epoch: 182 Loss: 0.5512717545032502 Val Loss: 0.8464484470231193\n",
      "Train Epoch: 183 Loss: 0.5482676720619202 Val Loss: 0.8419073734964643\n",
      "Train Epoch: 184 Loss: 0.5444795715808869 Val Loss: 0.8426940185683114\n",
      "Train Epoch: 185 Loss: 0.549861513376236 Val Loss: 0.8356443643569946\n",
      "Train Epoch: 186 Loss: 0.5472894871234893 Val Loss: 0.831184276512691\n",
      "Train Epoch: 187 Loss: 0.5459387707710266 Val Loss: 0.8711116484233311\n",
      "Train Epoch: 188 Loss: 0.5532479155063629 Val Loss: 0.8533051695142474\n",
      "Train Epoch: 189 Loss: 0.5504820907115936 Val Loss: 0.8505457724843707\n",
      "Train Epoch: 190 Loss: 0.5453890872001648 Val Loss: 0.834233684199197\n",
      "Train Epoch: 191 Loss: 0.543991641998291 Val Loss: 0.8487231390816825\n",
      "Epoch 00193: reducing learning rate of group 0 to 3.1676e-04.\n",
      "Train Epoch: 192 Loss: 0.5439100503921509 Val Loss: 0.8382066147668021\n",
      "Train Epoch: 193 Loss: 0.5393163883686065 Val Loss: 0.8490508879934039\n",
      "Train Epoch: 194 Loss: 0.5349242258071899 Val Loss: 0.8431685992649623\n",
      "Train Epoch: 195 Loss: 0.5333486294746399 Val Loss: 0.8444984299795968\n",
      "Train Epoch: 196 Loss: 0.5385489082336425 Val Loss: 0.8346978511129107\n",
      "Train Epoch: 197 Loss: 0.5315274763107299 Val Loss: 0.8313364727156503\n",
      "Train Epoch: 198 Loss: 0.5319137239456176 Val Loss: 0.8524855886186872\n",
      "Train Epoch: 199 Loss: 0.5321839451789856 Val Loss: 0.8499721629279\n",
      "Train Epoch: 200 Loss: 0.538119786977768 Val Loss: 0.8377442019326347\n",
      "Epoch 00202: reducing learning rate of group 0 to 2.3757e-04.\n",
      "Train Epoch: 201 Loss: 0.5359608018398285 Val Loss: 0.8366167034421649\n",
      "Train Epoch: 202 Loss: 0.5246637547016144 Val Loss: 0.8352222442626953\n",
      "Train Epoch: 203 Loss: 0.5295338296890258 Val Loss: 0.8324578404426575\n",
      "Train Epoch: 204 Loss: 0.526194189786911 Val Loss: 0.8259703516960144\n",
      "Train Epoch: 205 Loss: 0.5236839485168457 Val Loss: 0.8355269176619393\n",
      "Train Epoch: 206 Loss: 0.5233633887767791 Val Loss: 0.829448572226933\n",
      "Train Epoch: 207 Loss: 0.5254396772384644 Val Loss: 0.8367910896028791\n",
      "Train Epoch: 208 Loss: 0.5252117490768433 Val Loss: 0.8289291688374111\n",
      "Train Epoch: 209 Loss: 0.5298837697505951 Val Loss: 0.8264044012342181\n",
      "Epoch 00211: reducing learning rate of group 0 to 1.7818e-04.\n",
      "Train Epoch: 210 Loss: 0.5261540126800537 Val Loss: 0.8293562361172268\n",
      "Train Epoch: 211 Loss: 0.5214000380039215 Val Loss: 0.8220840777669635\n",
      "Train Epoch: 212 Loss: 0.5189636957645416 Val Loss: 0.8301323396818978\n",
      "Train Epoch: 213 Loss: 0.5200896883010864 Val Loss: 0.8326847979000637\n",
      "Train Epoch: 214 Loss: 0.5191271460056305 Val Loss: 0.8287727577345712\n",
      "Train Epoch: 215 Loss: 0.5182836198806763 Val Loss: 0.8217446463448661\n",
      "Train Epoch: 216 Loss: 0.5165312862396241 Val Loss: 0.8290767414229256\n",
      "Train Epoch: 217 Loss: 0.5175991475582122 Val Loss: 0.8178986055510384\n",
      "Train Epoch: 218 Loss: 0.5169879102706909 Val Loss: 0.8278443557875497\n",
      "Train Epoch: 219 Loss: 0.5175246751308441 Val Loss: 0.827632018498012\n",
      "Train Epoch: 220 Loss: 0.517045396566391 Val Loss: 0.8216090798377991\n",
      "Train Epoch: 221 Loss: 0.5183915758132934 Val Loss: 0.8274184720856803\n",
      "Train Epoch: 222 Loss: 0.5156188786029816 Val Loss: 0.8245312656675067\n",
      "Epoch 00224: reducing learning rate of group 0 to 1.3363e-04.\n",
      "Train Epoch: 223 Loss: 0.5152055501937867 Val Loss: 0.824013922895704\n",
      "Train Epoch: 224 Loss: 0.5140415966510773 Val Loss: 0.8251067655427116\n",
      "Train Epoch: 225 Loss: 0.5137878930568696 Val Loss: 0.8198232480457851\n",
      "Train Epoch: 226 Loss: 0.5132986974716186 Val Loss: 0.8314618638583592\n",
      "Train Epoch: 227 Loss: 0.5114973139762878 Val Loss: 0.8270773717335292\n",
      "Train Epoch: 228 Loss: 0.5135294389724732 Val Loss: 0.819013272012983\n",
      "Train Epoch: 229 Loss: 0.5092942571640015 Val Loss: 0.8177017995289394\n",
      "Train Epoch: 230 Loss: 0.5098104047775268 Val Loss: 0.8194134831428528\n",
      "Train Epoch: 231 Loss: 0.5117060697078705 Val Loss: 0.8320642283984593\n",
      "Train Epoch: 232 Loss: 0.5124425053596496 Val Loss: 0.8259000863347735\n",
      "Train Epoch: 233 Loss: 0.5102921557426453 Val Loss: 0.8218912141663688\n",
      "Train Epoch: 234 Loss: 0.5102129137516022 Val Loss: 0.8226970945085798\n",
      "Epoch 00236: reducing learning rate of group 0 to 1.0023e-04.\n",
      "Train Epoch: 235 Loss: 0.5109213817119599 Val Loss: 0.829391428402492\n",
      "Train Epoch: 236 Loss: 0.5095198738574982 Val Loss: 0.8210305656705584\n",
      "Train Epoch: 237 Loss: 0.5107230567932128 Val Loss: 0.8165750333241054\n",
      "Train Epoch: 238 Loss: 0.5076646411418915 Val Loss: 0.8150763426508222\n",
      "Train Epoch: 239 Loss: 0.5060791742801666 Val Loss: 0.8187516927719116\n",
      "Train Epoch: 240 Loss: 0.5100632917881012 Val Loss: 0.8185552188328334\n",
      "Train Epoch: 241 Loss: 0.5089051711559296 Val Loss: 0.8214841485023499\n",
      "Train Epoch: 242 Loss: 0.5080815207958221 Val Loss: 0.8248983025550842\n",
      "Train Epoch: 243 Loss: 0.5057019460201263 Val Loss: 0.82979587997709\n",
      "Epoch 00245: reducing learning rate of group 0 to 7.5169e-05.\n",
      "Train Epoch: 244 Loss: 0.5092684757709504 Val Loss: 0.8187450596264431\n",
      "Train Epoch: 245 Loss: 0.5041533339023591 Val Loss: 0.8172353506088257\n",
      "Train Epoch: 246 Loss: 0.505703547000885 Val Loss: 0.8183120744568961\n",
      "Train Epoch: 247 Loss: 0.5041839599609375 Val Loss: 0.8202607887131828\n",
      "Train Epoch: 248 Loss: 0.5046249032020569 Val Loss: 0.8173919575554984\n",
      "Train Epoch: 249 Loss: 0.5030761873722076 Val Loss: 0.8205330286707196\n",
      "Train Epoch: 250 Loss: 0.5057538330554963 Val Loss: 0.8272782819611686\n",
      "Train Epoch: 251 Loss: 0.5050812816619873 Val Loss: 0.8242817350796291\n",
      "Train Epoch: 252 Loss: 0.505987321138382 Val Loss: 0.8235118985176086\n",
      "Epoch 00254: reducing learning rate of group 0 to 5.6377e-05.\n",
      "Train Epoch: 253 Loss: 0.5045173060894013 Val Loss: 0.8156694088663373\n",
      "Train Epoch: 254 Loss: 0.500854309797287 Val Loss: 0.8199541568756104\n",
      "Train Epoch: 255 Loss: 0.501960289478302 Val Loss: 0.8144729818616595\n",
      "Train Epoch: 256 Loss: 0.5008317148685455 Val Loss: 0.815963694027492\n",
      "Train Epoch: 257 Loss: 0.5004051375389099 Val Loss: 0.815452584198543\n",
      "Train Epoch: 258 Loss: 0.5004600346088409 Val Loss: 0.8186350379671369\n",
      "Train Epoch: 259 Loss: 0.5014862453937531 Val Loss: 0.8149266498429435\n",
      "Train Epoch: 260 Loss: 0.4999674367904663 Val Loss: 0.8160351089068821\n",
      "Train Epoch: 261 Loss: 0.49861962914466856 Val Loss: 0.8169773646763393\n",
      "Epoch 00263: reducing learning rate of group 0 to 4.2283e-05.\n",
      "Train Epoch: 262 Loss: 0.4997535288333893 Val Loss: 0.8218259300504412\n",
      "Train Epoch: 263 Loss: 0.498015730381012 Val Loss: 0.8155597192900521\n",
      "Train Epoch: 264 Loss: 0.49870885133743287 Val Loss: 0.814988877092089\n",
      "Train Epoch: 265 Loss: 0.49989359140396117 Val Loss: 0.81572368315288\n",
      "Train Epoch: 266 Loss: 0.49670612812042236 Val Loss: 0.8159439052854266\n",
      "Train Epoch: 267 Loss: 0.49897997856140136 Val Loss: 0.8141665203230721\n",
      "Train Epoch: 268 Loss: 0.4972052562236786 Val Loss: 0.8150467191423688\n",
      "Train Epoch: 269 Loss: 0.4972069823741913 Val Loss: 0.8142684187207904\n",
      "Train Epoch: 270 Loss: 0.4980520820617676 Val Loss: 0.8137054187910897\n",
      "Train Epoch: 271 Loss: 0.49798871874809264 Val Loss: 0.8169985924448285\n",
      "Train Epoch: 272 Loss: 0.49663417220115663 Val Loss: 0.8152480466025216\n",
      "Train Epoch: 273 Loss: 0.4991926169395447 Val Loss: 0.8160939812660217\n",
      "Train Epoch: 274 Loss: 0.49592484593391417 Val Loss: 0.8181267380714417\n",
      "Train Epoch: 275 Loss: 0.49819377779960633 Val Loss: 0.8163053478513446\n",
      "Epoch 00277: reducing learning rate of group 0 to 3.1712e-05.\n",
      "Train Epoch: 276 Loss: 0.4978945708274841 Val Loss: 0.8145495738301959\n",
      "Train Epoch: 277 Loss: 0.4957863962650299 Val Loss: 0.8160254274095807\n",
      "Train Epoch: 278 Loss: 0.4958898103237152 Val Loss: 0.8137135846274239\n",
      "Train Epoch: 279 Loss: 0.4972200584411621 Val Loss: 0.8135537930897304\n",
      "Train Epoch: 280 Loss: 0.49585097789764404 Val Loss: 0.813651442527771\n",
      "Train Epoch: 281 Loss: 0.49652477145195006 Val Loss: 0.8137685060501099\n",
      "Train Epoch: 282 Loss: 0.49612122535705566 Val Loss: 0.8149315203939166\n",
      "Train Epoch: 283 Loss: 0.4956950318813324 Val Loss: 0.8146736877305167\n",
      "Train Epoch: 284 Loss: 0.49642945170402525 Val Loss: 0.8122537561825344\n",
      "Train Epoch: 285 Loss: 0.49613147497177124 Val Loss: 0.8141388978276934\n",
      "Train Epoch: 286 Loss: 0.4965505063533783 Val Loss: 0.8139183010373797\n",
      "Train Epoch: 287 Loss: 0.49646758794784546 Val Loss: 0.8139568822724479\n",
      "Train Epoch: 288 Loss: 0.4969039821624756 Val Loss: 0.8141855342047555\n",
      "Train Epoch: 289 Loss: 0.4971376383304596 Val Loss: 0.8132676226752145\n",
      "Epoch 00291: reducing learning rate of group 0 to 2.3784e-05.\n",
      "Train Epoch: 290 Loss: 0.49776496171951295 Val Loss: 0.8131206546510968\n",
      "Train Epoch: 291 Loss: 0.49579702615737914 Val Loss: 0.8154635855129787\n",
      "Train Epoch: 292 Loss: 0.49526979684829714 Val Loss: 0.8141970804759434\n",
      "Train Epoch: 293 Loss: 0.4949391198158264 Val Loss: 0.8132108109337943\n",
      "Train Epoch: 294 Loss: 0.4947881162166595 Val Loss: 0.8136880653245109\n",
      "Train Epoch: 295 Loss: 0.49422792553901673 Val Loss: 0.8135065947260175\n",
      "Train Epoch: 296 Loss: 0.49476622223854066 Val Loss: 0.8129481502941677\n",
      "Train Epoch: 297 Loss: 0.49407477498054503 Val Loss: 0.8146088719367981\n",
      "Train Epoch: 298 Loss: 0.49575054526329043 Val Loss: 0.8128683396748134\n",
      "Epoch 00300: reducing learning rate of group 0 to 1.7838e-05.\n",
      "Train Epoch: 299 Loss: 0.4947802567481995 Val Loss: 0.8149599262646267\n"
     ]
    },
    {
     "data": {
      "text/plain": "<Figure size 600x600 with 1 Axes>",
      "image/png": "[encoded data removed]"
     },
     "metadata": {},
     "output_type": "display_data"
    },
    {
     "data": {
      "text/plain": "(0.4947802567481995, 0.8149599262646267)"
     },
     "execution_count": 9,
     "metadata": {},
     "output_type": "execute_result"
    }
   ],
   "source": [
    "# retrain the model with the best parameters\n",
    "best_model = MLP()\n",
    "train_loader, val_loader = dataset.torch_split_dataset(dataset=dev_data, train_ratio=0.8, batch_size=32)\n",
    "if best_pytorch_params['optimizer'] == 'SGD':\n",
    "    optimizer = t.optim.SGD(best_model.parameters(), lr=best_pytorch_params['lr'],\n",
    "                            weight_decay=best_pytorch_params['weight_decay'], momentum=best_pytorch_params['momentum'],\n",
    "                            nesterov=best_pytorch_params['nesterov'])\n",
    "else:\n",
    "    optimizer = t.optim.Adam(best_model.parameters(), lr=best_pytorch_params['lr'],\n",
    "                             weight_decay=best_pytorch_params['weight_decay'])\n",
    "\n",
    "torch_train(model=best_model, optimizer=optimizer, train_loader=train_loader,\n",
    "            val_loader=val_loader, epochs=300,\n",
    "            verbose=True,\n",
    "            scheduler=lr_scheduler.ReduceLROnPlateau(optimizer, mode='min', factor=0.75, patience=5, cooldown=3,\n",
    "                                                     verbose=True, min_lr=1e-6), loss_fn= MEELoss())"
   ],
   "metadata": {
    "collapsed": false,
    "ExecuteTime": {
     "end_time": "2024-01-09T14:51:20.190807700Z",
     "start_time": "2024-01-09T14:51:07.976707300Z"
    }
   },
   "id": "e5681a0c5fc16b13",
   "execution_count": 9
  },
  {
   "cell_type": "code",
   "execution_count": null,
   "outputs": [],
   "source": [
    "test_loader = DataLoader(CupDataset(test_data))\n",
    "\n",
    "# plot twist, it's only the inputs\n",
    "\n",
    "# Evaluate the trained model on the test set\n",
    "model = best_model\n",
    "model.eval()  # Set the model to evaluation mode\n",
    "\n",
    "outputs = []\n",
    "with torch.no_grad():\n",
    "    for inputs, labels in test_loader:\n",
    "        output = model(inputs)\n",
    "        outputs.append(output)\n",
    "\n",
    "outputs"
   ],
   "metadata": {
    "collapsed": false,
    "ExecuteTime": {
     "start_time": "2024-01-09T14:43:35.054909400Z"
    }
   },
   "id": "6cefd3469b115180"
  },
  {
   "cell_type": "markdown",
   "source": [
    "# Keras"
   ],
   "metadata": {
    "collapsed": false
   },
   "id": "9e9f4562505931dc"
  },
  {
   "cell_type": "code",
   "outputs": [
    {
     "name": "stdout",
     "output_type": "stream",
     "text": [
      "WARNING:tensorflow:From C:\\Users\\Hp\\Desktop\\ML\\env\\lib\\site-packages\\keras\\src\\losses.py:2976: The name tf.losses.sparse_softmax_cross_entropy is deprecated. Please use tf.compat.v1.losses.sparse_softmax_cross_entropy instead.\n"
     ]
    }
   ],
   "source": [
    "from tens_keras import *\n",
    "\n",
    "parameters = [\n",
    "    {'optimizer': 'Adam', 'learning_rate': [0.001, 0.0001, 0.00001], 'weight_decay': [0.0, 0.0001, 0.0005],\n",
    "     'use_ema': [True, False]},\n",
    "    {'optimizer': 'SGD', 'learning_rate': [0.01, 0.001, 0.0001], 'weight_decay': [0.0, 0.0001, 0.0005],\n",
    "     'momentum': [0.9, 0.75], 'nesterov': [True, False]}\n",
    "]\n",
    "\n",
    "layer_configurations = [\n",
    "    # 2 uniform hidden layers 200\n",
    "    [\n",
    "        ('dense', 200),\n",
    "        ('dense', 200)\n",
    "    ],\n",
    "\n",
    "    # 3 uniform hidden layers 200\n",
    "    [\n",
    "        ('dense', 200),\n",
    "        ('dense', 200),\n",
    "        ('dense', 200)\n",
    "    ],\n",
    "    # 3 uniform hidden layers 150\n",
    "    [\n",
    "        ('dense', 150),\n",
    "        ('dense', 150),\n",
    "        ('dense', 150)\n",
    "    ],\n",
    "    # 3 layers with different number of neurons\n",
    "    [\n",
    "        ('dense', 25),\n",
    "        ('dense', 50),\n",
    "        ('dense', 150)\n",
    "    ],\n",
    "    # 3 layers with different number of neurons\n",
    "    [\n",
    "        ('dense', 150),\n",
    "        ('dense', 50),\n",
    "        ('dense', 25)\n",
    "    ],\n",
    "    # 3 uniform hidden layers 300\n",
    "    [\n",
    "        ('dense', 300),\n",
    "        ('dense', 300),\n",
    "        ('dense', 300)\n",
    "    ],\n",
    "    # 5 uniform hidden layers 150\n",
    "    [\n",
    "        ('dense', 150),\n",
    "        ('dense', 150),\n",
    "        ('dense', 150),\n",
    "        ('dense', 150),\n",
    "        ('dense', 150)\n",
    "    ]\n",
    "]"
   ],
   "metadata": {
    "collapsed": false,
    "ExecuteTime": {
     "end_time": "2024-01-09T14:51:41.500466700Z",
     "start_time": "2024-01-09T14:51:28.691848600Z"
    }
   },
   "id": "7c7426ed0848a471",
   "execution_count": 10
  },
  {
   "cell_type": "code",
   "outputs": [
    {
     "name": "stdout",
     "output_type": "stream",
     "text": [
      "Layer configuration: [('dense', 200), ('dense', 200)]\n",
      "WARNING:tensorflow:From C:\\Users\\Hp\\Desktop\\ML\\env\\lib\\site-packages\\keras\\src\\backend.py:873: The name tf.get_default_graph is deprecated. Please use tf.compat.v1.get_default_graph instead.\n",
      "WARNING:tensorflow:From C:\\Users\\Hp\\Desktop\\ML\\env\\lib\\site-packages\\keras\\src\\utils\\tf_utils.py:492: The name tf.ragged.RaggedTensorValue is deprecated. Please use tf.compat.v1.ragged.RaggedTensorValue instead.\n",
      "New Best Parameters: {'learning_rate': 0.01, 'weight_decay': 0.0, 'momentum': 0.9, 'nesterov': True, 'optimizer': 'SGD'}, Train Loss: 5.884357261657715, Val Loss: 5.988637447357178\n",
      "New Best Parameters: {'learning_rate': 0.01, 'weight_decay': 0.0, 'momentum': 0.9, 'nesterov': False, 'optimizer': 'SGD'}, Train Loss: 5.8858410835266115, Val Loss: 5.987708377838135\n",
      "New Best Parameters: {'learning_rate': 0.01, 'weight_decay': 0.0001, 'momentum': 0.9, 'nesterov': False, 'optimizer': 'SGD'}, Train Loss: 5.886114406585693, Val Loss: 5.98471851348877\n",
      "Best Parameters: {'learning_rate': 0.01, 'weight_decay': 0.0001, 'momentum': 0.9, 'nesterov': False, 'optimizer': 'SGD'}, Train Loss: 5.886114406585693, Val Loss: 5.98471851348877\n",
      "Best parameters: {'learning_rate': 0.01, 'weight_decay': 0.0001, 'momentum': 0.9, 'nesterov': False, 'optimizer': 'SGD'}, with values: (5.886114406585693, 5.98471851348877)\n",
      " ------------------------------------ \n",
      "Layer configuration: [('dense', 200), ('dense', 200), ('dense', 200)]\n"
     ]
    }
   ],
   "source": [
    "best_values = (20, 20)  # impose a minimum training and validation loss to reach\n",
    "best_combo = None\n",
    "for layer_configuration in layer_configurations:\n",
    "    print(f\"Layer configuration: {layer_configuration}\")\n",
    "    best_keras_params, res_values = keras_grid_search(model_builder=keras_mlp, parameters=parameters,\n",
    "                                                      model_layers=layer_configuration,\n",
    "                                                      train_data=train_folds, val_data=val_folds, verbose=0,\n",
    "                                                      best_values=best_values)\n",
    "    print(f\"Best parameters: {best_keras_params}, with values: {res_values}\")\n",
    "    if (res_values[0] < best_values[0]) and (res_values[1] < best_values[1]):\n",
    "        best_values = res_values\n",
    "        best_combo = (layer_configuration, best_keras_params)\n",
    "    print(\" ------------------------------------ \")\n",
    "print(f\"Best combo: {best_combo}, with values: {best_values}\")"
   ],
   "metadata": {
    "collapsed": false,
    "is_executing": true,
    "ExecuteTime": {
     "start_time": "2024-01-09T14:51:41.504469600Z"
    }
   },
   "id": "bb6dbadb16873464",
   "execution_count": null
  },
  {
   "cell_type": "markdown",
   "source": [
    "# SVM"
   ],
   "metadata": {
    "collapsed": false
   },
   "id": "93f1734023314302"
  },
  {
   "cell_type": "code",
   "execution_count": null,
   "outputs": [],
   "source": [
    "from sklearn.multioutput import MultiOutputRegressor\n",
    "from sklearn.svm import SVR\n",
    "from svm import *\n",
    "\n",
    "from sklearn.model_selection import GridSearchCV\n",
    "\n",
    "C_values = [0.1, 1, 10, 100, 1000]\n",
    "epsilon_values = [0.1, 0.01, 0.001, 0.0001]\n",
    "\n",
    "for C, epsilon in itertools.product(C_values, epsilon_values):\n",
    "    print(f\"C: {C}, epsilon: {epsilon}\")\n",
    "    mee = []\n",
    "    for t_fold, v_fold in zip(train_folds, val_folds):\n",
    "        svr = SVR(kernel='linear', C=C, epsilon = epsilon)  # SVR instance\n",
    "\n",
    "        inputs, targets = t_fold\n",
    "        # Instantiate MultiOutputRegressor with SVR as the base regressor\n",
    "        mor = MultiOutputRegressor(svr)\n",
    "\n",
    "        # Train the SVR model\n",
    "        mor.fit(inputs, targets)\n",
    "\n",
    "        val_inputs, val_targets = v_fold\n",
    "        # Predict outputs for the validation set\n",
    "        predictions = mor.predict(val_inputs)\n",
    "\n",
    "        # Calculate Euclidean distances between predicted and actual points\n",
    "        euclidean_distances = np.sqrt(np.sum((predictions - val_targets) ** 2, axis=1))\n",
    "\n",
    "        # Calculate Mean Euclidean Error\n",
    "        mean_euclidean_error = np.mean(euclidean_distances)\n",
    "        mee.append(mean_euclidean_error)\n",
    "    print(f\"Mean Euclidean Error: {np.mean(mee)}\")\n"
   ],
   "metadata": {
    "collapsed": false,
    "ExecuteTime": {
     "end_time": "2024-01-09T14:43:35.131886900Z",
     "start_time": "2024-01-09T14:43:35.066887700Z"
    }
   },
   "id": "c1a5e331b7278848"
  },
  {
   "cell_type": "code",
   "execution_count": null,
   "outputs": [],
   "source": [
    "\n",
    "\n"
   ],
   "metadata": {
    "collapsed": false,
    "ExecuteTime": {
     "start_time": "2024-01-09T14:43:35.069927800Z"
    }
   },
   "id": "d50e232cc061bdb1"
  },
  {
   "cell_type": "code",
   "execution_count": null,
   "outputs": [],
   "source": [],
   "metadata": {
    "collapsed": false,
    "ExecuteTime": {
     "start_time": "2024-01-09T14:43:35.072021700Z"
    }
   },
   "id": "9ca67ea3424e3673"
  }
 ],
 "metadata": {
  "kernelspec": {
   "display_name": "Python 3",
   "language": "python",
   "name": "python3"
  },
  "language_info": {
   "codemirror_mode": {
    "name": "ipython",
    "version": 2
   },
   "file_extension": ".py",
   "mimetype": "text/x-python",
   "name": "python",
   "nbconvert_exporter": "python",
   "pygments_lexer": "ipython2",
   "version": "2.7.6"
  }
 },
 "nbformat": 4,
 "nbformat_minor": 5
}
