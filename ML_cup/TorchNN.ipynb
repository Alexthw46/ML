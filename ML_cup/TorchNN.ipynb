{
 "cells": [
  {
   "cell_type": "code",
   "execution_count": null,
   "id": "initial_id",
   "metadata": {
    "collapsed": true
   },
   "outputs": [],
   "source": [
    "import dataset_utils as dataset\n",
    "\n",
    "import torch as t\n",
    "\n",
    "from ML_cup.pytorch import *\n",
    "from sklearn.preprocessing import StandardScaler, MinMaxScaler\n",
    "\n",
    "#column_names = ['ID', \n",
    "#                'INPUT_1', 'INPUT_2', 'INPUT_3', 'INPUT_4', 'INPUT_5', 'INPUT_6', 'INPUT_7', 'INPUT_8', 'INPUT_9', 'INPUT_10',\n",
    "#                'TARGET_x', 'TARGET_y', 'TARGET_z']\n",
    "#dataframe = pd.read_csv(\"../data/ML-CUP23-TR.csv\", sep=',', comment='#', names=column_names, index_col= 'ID')\n",
    "#dataframe.head()\n",
    "\n",
    "dev_data = dataset.load_dataset(\"../data/ML-CUP23-TR.csv\")\n",
    "blind_data = dataset.load_dataset(\"../data/ML-CUP23-TS.csv\")\n",
    "\n",
    "# arange the dataset into inputs and labels\n",
    "from dataset_utils import skl_arange_dataset\n",
    "\n",
    "X_dev, y_dev, X_blind, train_folds, val_folds = skl_arange_dataset(dev_data, blind_data, scaler=StandardScaler(),\n",
    "                                                                   folds=5)"
   ]
  },
  {
   "cell_type": "code",
   "outputs": [],
   "source": [
    "# Split the dev data into train and validation with k-fold cross validation and minibatch\n",
    "train_loaders, val_loaders = dataset.torch_k_fold(dataset=dev_data, folds=5, batch_size=32)"
   ],
   "metadata": {
    "collapsed": false
   },
   "id": "428a2e865c4e5640"
  },
  {
   "cell_type": "code",
   "outputs": [],
   "source": [
    "parameters = [\n",
    "    {'optimizer': 'SGD', 'lr': [0.01, 0.001, 0.0001], 'weight_decay': [0.0, 0.001, 0.0005], 'momentum': [0.9, 0.75],\n",
    "     'nesterov': [True, False]}\n",
    "]\n",
    "lr_scheduler_params = {'mode': 'min', 'factor': 0.75, 'patience': 5, 'cooldown': 3, 'verbose': False, 'min_lr': 1e-6}\n",
    "# perform grid search to find the best parameters\n",
    "best_pytorch_params = grid_search(model_builder=MLP, parameters=parameters, train_loader=train_loaders,\n",
    "                                  val_loader=val_loaders, scheduler=('ReduceLROnPlateau', lr_scheduler_params),\n",
    "                                  verbose=False)"
   ],
   "metadata": {
    "collapsed": false
   },
   "id": "fe4e14d6b7dfbd35"
  },
  {
   "cell_type": "code",
   "outputs": [],
   "source": [
    "\n",
    "# best_pytorch_params = {'lr': 0.001, 'weight_decay': 0.0005, 'momentum': 0.9, 'nesterov': False, 'optimizer': 'SGD'}\n",
    "# retrain the model with the best parameters\n",
    "best_model = MLP()\n",
    "train_loader, val_loader = dataset.torch_split_dataset(dataset=dev_data, train_ratio=0.8, batch_size=32)\n",
    "if best_pytorch_params['optimizer'] == 'SGD':\n",
    "    optimizer = t.optim.SGD(best_model.parameters(), lr=best_pytorch_params['lr'],\n",
    "                            weight_decay=best_pytorch_params['weight_decay'], momentum=best_pytorch_params['momentum'],\n",
    "                            nesterov=best_pytorch_params['nesterov'])\n",
    "else:\n",
    "    optimizer = t.optim.Adam(best_model.parameters(), lr=best_pytorch_params['lr'],\n",
    "                             weight_decay=best_pytorch_params['weight_decay'])\n",
    "\n",
    "torch_train(model=best_model, optimizer=optimizer, train_loader=train_loader,\n",
    "            val_loader=val_loader, epochs=300,\n",
    "            verbose=True,\n",
    "            scheduler=lr_scheduler.ReduceLROnPlateau(optimizer, mode='min', factor=0.75, patience=5, cooldown=3,\n",
    "                                                     verbose=True, min_lr=1e-6))"
   ],
   "metadata": {
    "collapsed": false
   },
   "id": "57b512a806b2bf1"
  },
  {
   "cell_type": "code",
   "outputs": [],
   "source": [
    "'''test_loader = DataLoader(CupDataset(blind_data))\n",
    "\n",
    "# plot twist, it's only the inputs\n",
    "\n",
    "# Evaluate the trained model on the test set\n",
    "model = best_model\n",
    "model.eval()  # Set the model to evaluation mode\n",
    "\n",
    "outputs = []\n",
    "with torch.no_grad():\n",
    "    for inputs, labels in test_loader:\n",
    "        output = model(inputs)\n",
    "        outputs.append(output)\n",
    "\n",
    "outputs'''"
   ],
   "metadata": {
    "collapsed": false
   },
   "id": "1bc67474563d65d5"
  }
 ],
 "metadata": {
  "kernelspec": {
   "display_name": "Python 3",
   "language": "python",
   "name": "python3"
  },
  "language_info": {
   "codemirror_mode": {
    "name": "ipython",
    "version": 2
   },
   "file_extension": ".py",
   "mimetype": "text/x-python",
   "name": "python",
   "nbconvert_exporter": "python",
   "pygments_lexer": "ipython2",
   "version": "2.7.6"
  }
 },
 "nbformat": 4,
 "nbformat_minor": 5
}
