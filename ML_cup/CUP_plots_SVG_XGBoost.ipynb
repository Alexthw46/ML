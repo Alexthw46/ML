{
 "cells": [
  {
   "cell_type": "code",
   "metadata": {},
   "source": [
    "import matplotlib.pyplot as plt\n",
    "import numpy as np\n",
    "import pandas as pd\n",
    "from CUP_SVM_XGBoost import xgb_fit, variable_batch_training_XGBoost, X_train, svr_fit, predict_scaled_IO_training\n",
    "\n",
    "# Funzione per plottare RMSE\n",
    "def plot_rmse_progress(train_rmse, test_rmse, title):\n",
    "    fig, axes = plt.subplots(1, 3, figsize=(18, 5), sharey=True)\n",
    "    \n",
    "    for i, target in enumerate([\"TARGET_x\", \"TARGET_y\", \"TARGET_z\"]):\n",
    "        axes[i].plot(train_rmse[target], label=\"Train RMSE\", color=\"blue\")\n",
    "        axes[i].plot(test_rmse[target], label=\"Test RMSE\", color=\"red\", linestyle=\"dashed\")\n",
    "        axes[i].set_title(f\"{title} - {target}\")\n",
    "        axes[i].set_xlabel(\"Epochs / Mini-batches\")\n",
    "        axes[i].set_ylabel(\"RMSE\")\n",
    "        axes[i].legend()\n",
    "        axes[i].grid(True)\n",
    "\n",
    "    plt.tight_layout()\n",
    "    plt.show()\n"
   ],
   "outputs": [],
   "execution_count": null
  },
  {
   "metadata": {},
   "cell_type": "code",
   "source": [
    "# 1. Training con Grid Search XGBoost\n",
    "xgb_results, best_models_xgb, best_params_xgb, evals_result_xgb = xgb_fit()\n",
    "train_rmse_xgb = {target: evals_result_xgb[target][\"validation_0\"][\"rmse\"] for target in [\"TARGET_x\", \"TARGET_y\", \"TARGET_z\"]}\n",
    "test_rmse_xgb = {target: evals_result_xgb[target][\"validation_1\"][\"rmse\"] for target in [\"TARGET_x\", \"TARGET_y\", \"TARGET_z\"]}\n",
    "plot_rmse_progress(train_rmse_xgb, test_rmse_xgb, \"Grid Search XGBoost\")"
   ],
   "outputs": [],
   "execution_count": null
  },
  {
   "metadata": {},
   "cell_type": "code",
   "source": [
    "# 2. Online training\n",
    "#minibatch_models_online, train_rmse_online, test_rmse_online = variable_batch_training_XGBoost(best_params_xgb, batch_size=1, epochs=10)\n",
    "#plot_rmse_progress(train_rmse_online, test_rmse_online, \"Online Training\")"
   ],
   "outputs": [],
   "execution_count": null
  },
  {
   "metadata": {},
   "cell_type": "code",
   "source": [
    "# 3. Mini-batch training con batch size 25\n",
    "minibatch_models_25, train_rmse_25, test_rmse_25 = variable_batch_training_XGBoost(best_params_xgb, batch_size=25, epochs=10)\n",
    "plot_rmse_progress(train_rmse_25, test_rmse_25, \"Mini-batch Training (Batch Size = 25)\")"
   ],
   "outputs": [],
   "execution_count": null
  },
  {
   "metadata": {},
   "cell_type": "code",
   "source": [
    "# 4. Mini-batch training con batch size 50\n",
    "minibatch_models_50, train_rmse_50, test_rmse_50 = variable_batch_training_XGBoost(best_params_xgb, batch_size=50, epochs=10)\n",
    "plot_rmse_progress(train_rmse_50, test_rmse_50, \"Mini-batch Training (Batch Size = 50)\")"
   ],
   "outputs": [],
   "execution_count": null
  },
  {
   "metadata": {},
   "cell_type": "code",
   "source": [
    "# 5. Mini-batch training con batch size 100\n",
    "minibatch_models_100, train_rmse_100, test_rmse_100 = variable_batch_training_XGBoost(best_params_xgb, batch_size=100, epochs=10)\n",
    "plot_rmse_progress(train_rmse_100, test_rmse_100, \"Mini-batch Training (Batch Size = 100)\")"
   ],
   "outputs": [],
   "execution_count": null
  },
  {
   "metadata": {},
   "cell_type": "code",
   "source": [
    "# 6. Full batch retraining\n",
    "minibatch_models_full, train_rmse_full, test_rmse_full = variable_batch_training_XGBoost(best_params_xgb, batch_size=len(X_train), epochs=10)\n",
    "plot_rmse_progress(train_rmse_full, test_rmse_full, \"Full Batch Retraining\")"
   ],
   "outputs": [],
   "execution_count": null
  },
  {
   "cell_type": "code",
   "metadata": {},
   "source": [
    "_, svr_best_models, _= svr_fit()"
   ],
   "outputs": [],
   "execution_count": null
  },
  {
   "cell_type": "code",
   "metadata": {},
   "source": [
    "def load_cup_blind_test(file_path):\n",
    "    data = pd.read_csv(file_path, sep=\",\", comment=\"#\", header=None)\n",
    "    X = data.iloc[:, 1:13].values  # 12 feature numeriche\n",
    "    return X\n",
    "\n",
    "# Percorso del file blind\n",
    "blind_testset_path = \"../data/ML-CUP24-TS.csv\"\n",
    "\n",
    "\n",
    "# Carica i dati blind test\n",
    "X_blind = load_cup_blind_test(blind_testset_path)\n",
    "\n",
    "def predict_blind_test(model):\n",
    "    return np.array([predict_scaled_IO_training(model[target], X_blind, target) for target in [\"TARGET_x\", \"TARGET_y\", \"TARGET_z\"]]).T \n",
    "\n",
    "# Creazione della figura 3D\n",
    "fig = plt.figure(figsize=(18, 18))\n",
    "\n",
    "def make_3D_plot(predictions, model_name, index):\n",
    "    # Subplot per XGBoost\n",
    "    ax1 = fig.add_subplot(index, projection='3d')\n",
    "    ax1.scatter(predictions[:, 0], predictions[:, 1], predictions[:, 2], c='blue', marker='o', label=model_name)\n",
    "    ax1.set_title(\"Predizioni \" + model_name)\n",
    "    ax1.set_xlabel(\"X\")\n",
    "    ax1.set_ylabel(\"Y\")\n",
    "    ax1.set_zlabel(\"Z\")\n",
    "    ax1.legend()\n",
    "    ax1.grid()\n",
    "\n",
    "make_3D_plot(predict_blind_test(svr_best_models),\"SVR retrained full batch\", 331)\n",
    "make_3D_plot(predict_blind_test(best_models_xgb),\"XGBoost retrained full batch\", 332)\n",
    "make_3D_plot(predict_blind_test(minibatch_models_25),\"XGBoost retrained batchsize 25\", 333)\n",
    "make_3D_plot(predict_blind_test(minibatch_models_50),\"XGBoost retrained batchsize 50\", 334)\n",
    "make_3D_plot(predict_blind_test(minibatch_models_100),\"XGBoost retrained batchsize 100\", 335)\n",
    "\n",
    "\n",
    "plt.show()"
   ],
   "outputs": [],
   "execution_count": null
  },
  {
   "cell_type": "code",
   "metadata": {},
   "source": [
    "from CUP_SVM_XGBoost import scaler_input\n",
    "\n",
    "def load_cup_blind_test(file_path):\n",
    "    data = pd.read_csv(file_path, sep=\",\", comment=\"#\", header=None)\n",
    "    X = data.iloc[:, 1:13].values  # 12 feature numeriche\n",
    "    return X\n",
    "\n",
    "# Percorso del file di training\n",
    "blind_testset_path = \"../data/ML-CUP24-TS.csv\"\n",
    "\n",
    "\n",
    "# Carica i dati blind test\n",
    "X_blind = load_cup_blind_test(blind_testset_path)\n",
    "\n",
    "\n",
    "def predict_blind_test(model):\n",
    "    return np.array([model[target].predict(scaler_input.transform(X_blind)) for target in [\"TARGET_x\", \"TARGET_y\", \"TARGET_z\"]]).T \n",
    "\n",
    "\n",
    "# Creazione della figura 3D\n",
    "fig = plt.figure(figsize=(18, 18))\n",
    "\n",
    "def make_3D_plot(predictions, model_name, index):\n",
    "    # Subplot per XGBoost\n",
    "    ax1 = fig.add_subplot(index, projection='3d')\n",
    "    ax1.scatter(predictions[:, 0], predictions[:, 1], predictions[:, 2], c='blue', marker='o', label=model_name)\n",
    "    ax1.set_title(\"Predizioni \" + model_name)\n",
    "    ax1.set_xlabel(\"X\")\n",
    "    ax1.set_ylabel(\"Y\")\n",
    "    ax1.set_zlabel(\"Z\")\n",
    "    ax1.legend()\n",
    "    ax1.grid()\n",
    "\n",
    "make_3D_plot(predict_blind_test(svr_best_models),\"SVR retrained full batch\", 331)\n",
    "make_3D_plot(predict_blind_test(best_models_xgb),\"XGBoost retrained full batch\", 332)\n",
    "make_3D_plot(predict_blind_test(minibatch_models_25),\"XGBoost retrained batchsize 25\", 333)\n",
    "make_3D_plot(predict_blind_test(minibatch_models_50),\"XGBoost retrained batchsize 50\", 334)\n",
    "make_3D_plot(predict_blind_test(minibatch_models_100),\"XGBoost retrained batchsize 100\", 335)"
   ],
   "outputs": [],
   "execution_count": null
  },
  {
   "metadata": {},
   "cell_type": "code",
   "source": "",
   "outputs": [],
   "execution_count": null
  },
  {
   "metadata": {},
   "cell_type": "code",
   "source": "",
   "outputs": [],
   "execution_count": null
  }
 ],
 "metadata": {
  "kernelspec": {
   "display_name": "Python 3",
   "language": "python",
   "name": "python3"
  },
  "language_info": {
   "codemirror_mode": {
    "name": "ipython",
    "version": 3
   },
   "file_extension": ".py",
   "mimetype": "text/x-python",
   "name": "python",
   "nbconvert_exporter": "python",
   "pygments_lexer": "ipython3",
   "version": "3.12.9"
  }
 },
 "nbformat": 4,
 "nbformat_minor": 2
}
