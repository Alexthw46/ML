{
 "cells": [
  {
   "cell_type": "code",
   "outputs": [],
   "source": [
    "import dataset_utils as dataset\n",
    "\n",
    "import pandas as pd\n",
    "import numpy as np\n",
    "import matplotlib.pyplot as plt\n",
    "from sklearn.multioutput import MultiOutputRegressor\n",
    "from sklearn.svm import SVR\n",
    "import itertools\n",
    "from svm import *\n",
    "\n",
    "from sklearn.model_selection import GridSearchCV\n",
    "from sklearn.preprocessing import StandardScaler, MinMaxScaler\n",
    "\n",
    "#column_names = ['ID', \n",
    "#                'INPUT_1', 'INPUT_2', 'INPUT_3', 'INPUT_4', 'INPUT_5', 'INPUT_6', 'INPUT_7', 'INPUT_8', 'INPUT_9', 'INPUT_10',\n",
    "#                'TARGET_x', 'TARGET_y', 'TARGET_z']\n",
    "#dataframe = pd.read_csv(\"../data/ML-CUP23-TR.csv\", sep=',', comment='#', names=column_names, index_col= 'ID')\n",
    "#dataframe.head()\n",
    "\n",
    "dev_data = dataset.load_dataset(\"../data/ML-CUP23-TR.csv\")\n",
    "blind_data = dataset.load_dataset(\"../data/ML-CUP23-TS.csv\")\n",
    "\n",
    "# arange the dataset into inputs and labels\n",
    "from dataset_utils import skl_arange_dataset\n",
    "\n",
    "X_dev, y_dev, X_blind, train_folds, val_folds = skl_arange_dataset(dev_data, blind_data, scaler=StandardScaler(),\n",
    "                                                                   folds=5)\n"
   ],
   "metadata": {
    "collapsed": false
   },
   "id": "47922f4f44078c1b"
  },
  {
   "cell_type": "code",
   "execution_count": null,
   "id": "initial_id",
   "metadata": {
    "collapsed": true
   },
   "outputs": [],
   "source": [
    "C_values = [0.1, 1, 10, 100, 1000]\n",
    "epsilon_values = [0.1, 0.01, 0.001, 0.0001]\n",
    "\n",
    "for C, epsilon in itertools.product(C_values, epsilon_values):\n",
    "    print(f\"C: {C}, epsilon: {epsilon}\")\n",
    "    mee = []\n",
    "    for t_fold, v_fold in zip(train_folds, val_folds):\n",
    "        svr = SVR(kernel='linear', C=C, epsilon=epsilon)  # SVR instance\n",
    "\n",
    "        inputs, targets = t_fold\n",
    "        # Instantiate MultiOutputRegressor with SVR as the base regressor\n",
    "        mor = MultiOutputRegressor(svr)\n",
    "\n",
    "        # Train the SVR model\n",
    "        mor.fit(inputs, targets)\n",
    "\n",
    "        val_inputs, val_targets = v_fold\n",
    "        # Predict outputs for the validation set\n",
    "        predictions = mor.predict(val_inputs)\n",
    "\n",
    "        # Calculate Euclidean distances between predicted and actual points\n",
    "        euclidean_distances = np.sqrt(np.sum((predictions - val_targets) ** 2, axis=1))\n",
    "\n",
    "        # Calculate Mean Euclidean Error\n",
    "        mean_euclidean_error = np.mean(euclidean_distances)\n",
    "        mee.append(mean_euclidean_error)\n",
    "    print(f\"Mean Euclidean Error: {np.mean(mee)}\")\n"
   ]
  }
 ],
 "metadata": {
  "kernelspec": {
   "display_name": "Python 3",
   "language": "python",
   "name": "python3"
  },
  "language_info": {
   "codemirror_mode": {
    "name": "ipython",
    "version": 2
   },
   "file_extension": ".py",
   "mimetype": "text/x-python",
   "name": "python",
   "nbconvert_exporter": "python",
   "pygments_lexer": "ipython2",
   "version": "2.7.6"
  }
 },
 "nbformat": 4,
 "nbformat_minor": 5
}
