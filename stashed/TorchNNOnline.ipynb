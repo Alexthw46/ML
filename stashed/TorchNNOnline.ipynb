{
 "cells": [
  {
   "cell_type": "code",
   "id": "initial_id",
   "metadata": {
    "collapsed": true,
    "ExecuteTime": {
     "end_time": "2025-03-03T15:54:49.010950Z",
     "start_time": "2025-03-03T15:54:37.152222Z"
    }
   },
   "source": [
    "from datetime import datetime\n",
    "\n",
    "import dataset_utils as dataset\n",
    "import torch as t\n",
    "from ML_cup.pytorch import *\n",
    "from ML_cup.dataset_utils import CupDataset"
   ],
   "outputs": [
    {
     "name": "stdout",
     "output_type": "stream",
     "text": [
      "WARNING:tensorflow:From C:\\Users\\alext\\Desktop\\Uni\\ML\\.venv\\lib\\site-packages\\keras\\src\\losses.py:2976: The name tf.losses.sparse_softmax_cross_entropy is deprecated. Please use tf.compat.v1.losses.sparse_softmax_cross_entropy instead.\n",
      "\n"
     ]
    }
   ],
   "execution_count": 1
  },
  {
   "metadata": {
    "ExecuteTime": {
     "end_time": "2025-03-03T15:54:49.280530Z",
     "start_time": "2025-03-03T15:54:49.010950Z"
    }
   },
   "cell_type": "code",
   "source": [
    "import os\n",
    "import time\n",
    "\n",
    "# Check if GPU is available\n",
    "if torch.cuda.is_available():\n",
    "    print(\"GPU is available\")\n",
    "    torch.set_default_device(torch.device(\"cuda\"))\n",
    "print(f\"Using device: {torch.cuda.current_device()}\")\n",
    "print(f\"Available cpu count: {os.cpu_count()}\")\n",
    "dev_data = dataset.load_dataset(\"../data/ML-CUP24-TR.csv\")\n",
    "blind_data = dataset.load_dataset(\"../data/ML-CUP24-TS.csv\")\n",
    "\n",
    "# get a seed for the random state based on the current time\n",
    "rand = int(time.time())\n",
    "print(f\"Random seed: {rand}\")\n",
    "np.random.seed(rand)\n",
    "# Split the dev data into train and validation with k-fold cross validation and minibatch\n",
    "train_loaders, val_loaders, dev_loader, test_loader = dataset.torch_k_fold(dataset=dev_data, folds=5, batch_size=1,\n",
    "                                                                           random_state=rand)\n",
    "blind_loader = DataLoader(CupDataset(blind_data, device=torch.device('cuda')), batch_size=None)"
   ],
   "id": "127eaf2292564f3f",
   "outputs": [
    {
     "name": "stdout",
     "output_type": "stream",
     "text": [
      "GPU is available\n",
      "Using device: 0\n",
      "Available cpu count: 16\n",
      "Random seed: 1741017289\n"
     ]
    }
   ],
   "execution_count": 2
  },
  {
   "metadata": {
    "ExecuteTime": {
     "end_time": "2025-03-03T15:54:49.667412Z",
     "start_time": "2025-03-03T15:54:49.653294Z"
    }
   },
   "cell_type": "code",
   "source": [
    "# Model Definitions\n",
    "def MLP() -> t.nn.Module:\n",
    "    return t.nn.Sequential(\n",
    "        t.nn.Linear(12, 200),\n",
    "        t.nn.Tanh(),\n",
    "        t.nn.Linear(200, 200),\n",
    "        t.nn.Tanh(),\n",
    "        t.nn.Linear(200, 3)\n",
    "    )\n",
    "\n",
    "\n",
    "def MLPr() -> t.nn.Module:\n",
    "    return t.nn.Sequential(\n",
    "        t.nn.Linear(12, 200),\n",
    "        t.nn.ReLU(),\n",
    "        t.nn.Linear(200, 200),\n",
    "        t.nn.ReLU(),\n",
    "        t.nn.Linear(200, 3)\n",
    "    )"
   ],
   "id": "5eb9f234aa1a70a",
   "outputs": [],
   "execution_count": 3
  },
  {
   "metadata": {
    "jupyter": {
     "is_executing": true
    },
    "ExecuteTime": {
     "start_time": "2025-03-03T15:54:49.684702Z"
    }
   },
   "cell_type": "code",
   "source": [
    "parameters = [\n",
    "    {\n",
    "        'optimizer': 'SGD',\n",
    "        'lr': np.linspace(0.0005, 0.00025, 5),\n",
    "        'weight_decay': np.linspace(0.0001, 0.00001, 5),\n",
    "        'momentum': [0.9, 0.85, 0.8],\n",
    "        'nesterov': [True, False]\n",
    "    }\n",
    "]\n",
    "\n",
    "# perform grid search to find the best parameters\n",
    "best_pytorch_paramss, best_models = grid_search(model_builder=MLP, parameters=parameters, random_seed=rand,\n",
    "                                              train_loader=train_loaders,\n",
    "                                              val_loader=val_loaders, max_epochs=300,\n",
    "                                              scheduler=('', {}),\n",
    "                                              stability_threshold=0.25, patience=10,\n",
    "                                              clip=1.0,\n",
    "                                              tensorboard_folder_base=f'runs/online/MLP/SGD/tanh/{rand}')"
   ],
   "id": "fcdf2bcf90fc54b9",
   "outputs": [
    {
     "name": "stdout",
     "output_type": "stream",
     "text": [
      "Avg Train MEE: 0.36825414242455734, Avg Val MEE: 0.8768522168509663, Avg Fluctuation: 0.002321981589941302\n",
      "('SGD', {'lr': 0.00075, 'weight_decay': 5.5e-05, 'momentum': 0.9, 'nesterov': True}, 1.0)\n",
      "Avg Train MEE: 0.3529301472408406, Avg Val MEE: 0.8610409125126898, Avg Fluctuation: 0.0023054787779223174\n",
      "('SGD', {'lr': 0.00075, 'weight_decay': 0.0001, 'momentum': 0.9, 'nesterov': True}, 1.0)\n",
      "Avg Train MEE: 0.35445258340565494, Avg Val MEE: 0.8571365180239081, Avg Fluctuation: 0.001339464165180705\n",
      "('SGD', {'lr': 0.00075, 'weight_decay': 0.0001, 'momentum': 0.85, 'nesterov': True}, 1.0)\n",
      "Avg Train MEE: 0.33749539519427346, Avg Val MEE: 0.837492194660008, Avg Fluctuation: 0.0020054516209488645\n",
      "('SGD', {'lr': 0.00075, 'weight_decay': 5.5e-05, 'momentum': 0.85, 'nesterov': False}, 1.0)\n",
      "Avg Train MEE: 0.32507067048645694, Avg Val MEE: 0.8231994131207465, Avg Fluctuation: 0.0012591345233209197\n",
      "('SGD', {'lr': 0.00075, 'weight_decay': 5.5e-05, 'momentum': 0.8, 'nesterov': False}, 1.0)\n",
      "Avg Train MEE: 0.31978469618596134, Avg Val MEE: 0.8138691101036966, Avg Fluctuation: 0.001248825833314578\n",
      "('SGD', {'lr': 0.00075, 'weight_decay': 0.0001, 'momentum': 0.8, 'nesterov': True}, 1.0)\n"
     ]
    }
   ],
   "execution_count": null
  },
  {
   "metadata": {},
   "cell_type": "code",
   "outputs": [],
   "execution_count": null,
   "source": [
    "parameters = [\n",
    "    {\n",
    "        'optimizer': 'Adam',\n",
    "        'lr': np.linspace(0.000025, 0.0000075, 10),\n",
    "        'weight_decay': np.linspace(0.0001, 0.00001, 5),\n",
    "    }]\n",
    "# perform grid search to find the best parameters\n",
    "best_pytorch_paramsa, best_modela = grid_search(model_builder=MLP, parameters=parameters, random_seed=rand,\n",
    "                                              train_loader=train_loaders,\n",
    "                                              val_loader=val_loaders, max_epochs=300,\n",
    "                                              scheduler=('', {}),\n",
    "                                              stability_threshold=0.25, patience=10,\n",
    "                                              clip=1.0,\n",
    "                                              tensorboard_folder_base=f'runs/online/MLP/Adam/tanh/{rand}')"
   ],
   "id": "d45b1c72fb81870"
  },
  {
   "metadata": {},
   "cell_type": "code",
   "outputs": [],
   "execution_count": null,
   "source": "",
   "id": "f60c24780d46a9d5"
  }
 ],
 "metadata": {
  "kernelspec": {
   "display_name": "Python 3",
   "language": "python",
   "name": "python3"
  },
  "language_info": {
   "codemirror_mode": {
    "name": "ipython",
    "version": 2
   },
   "file_extension": ".py",
   "mimetype": "text/x-python",
   "name": "python",
   "nbconvert_exporter": "python",
   "pygments_lexer": "ipython2",
   "version": "2.7.6"
  }
 },
 "nbformat": 4,
 "nbformat_minor": 5
}
