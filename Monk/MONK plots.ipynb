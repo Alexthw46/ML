{
 "cells": [
  {
   "cell_type": "code",
   "metadata": {},
   "source": [
    "import matplotlib.pyplot as plt\n",
    "from MONK_SVM_XGBoost import monk_project\n",
    "\n",
    "best_eval_results_acc, best_eval_results_mse = monk_project(1)\n",
    "\n",
    "epochs = range(1, len(best_eval_results_mse['validation_0']['logloss']) + 1)\n",
    "\n",
    "plt.figure(figsize=(10, 5))\n",
    "plt.plot(epochs, best_eval_results_mse['validation_0']['rmse'], label='RMSE train')\n",
    "plt.plot(epochs, best_eval_results_mse['validation_1']['rmse'], label='RMSE test')\n",
    "plt.xlabel(\"Epochs\")\n",
    "plt.ylabel(\"RMSE\")\n",
    "plt.title(\"XGBoost Learning Curve for best model on RMSE\")\n",
    "plt.legend()\n",
    "plt.grid()\n",
    "plt.show()"
   ],
   "outputs": [],
   "execution_count": null
  },
  {
   "cell_type": "code",
   "metadata": {},
   "source": [
    "plt.figure(figsize=(10, 5))\n",
    "plt.plot(epochs, best_eval_results_acc['validation_0']['error'], label='Error train ')\n",
    "plt.plot(epochs, best_eval_results_acc['validation_1']['error'], label='Error test')\n",
    "plt.xlabel(\"Epochs\")\n",
    "plt.ylabel(\"Error\")\n",
    "plt.title(\"XGBoost Learning Curve for best model on Error\")\n",
    "plt.legend()\n",
    "plt.grid()\n",
    "plt.show()"
   ],
   "outputs": [],
   "execution_count": null
  },
  {
   "cell_type": "code",
   "metadata": {},
   "source": [
    "import matplotlib.pyplot as plt\n",
    "from MONK_SVM_XGBoost import monk_project\n",
    "\n",
    "best_eval_results_acc, best_eval_results_mse = monk_project(2)\n",
    "\n",
    "epochs = range(1, len(best_eval_results_mse['validation_0']['logloss']) + 1)\n",
    "\n",
    "plt.figure(figsize=(10, 5))\n",
    "plt.plot(epochs, best_eval_results_mse['validation_0']['rmse'], label='RMSE train')\n",
    "plt.plot(epochs, best_eval_results_mse['validation_1']['rmse'], label='RMSE test')\n",
    "plt.xlabel(\"Epochs\")\n",
    "plt.ylabel(\"RMSE\")\n",
    "plt.title(\"XGBoost Learning Curve for best model on RMSE\")\n",
    "plt.legend()\n",
    "plt.grid()\n",
    "plt.show()"
   ],
   "outputs": [],
   "execution_count": null
  },
  {
   "cell_type": "code",
   "metadata": {},
   "source": [
    "plt.figure(figsize=(10, 5))\n",
    "plt.plot(epochs, best_eval_results_acc['validation_0']['error'], label='Error train ')\n",
    "plt.plot(epochs, best_eval_results_acc['validation_1']['error'], label='Error test')\n",
    "plt.xlabel(\"Epochs\")\n",
    "plt.ylabel(\"Error\")\n",
    "plt.title(\"XGBoost Learning Curve for best model on Error\")\n",
    "plt.legend()\n",
    "plt.grid()\n",
    "plt.show()"
   ],
   "outputs": [],
   "execution_count": null
  },
  {
   "cell_type": "code",
   "metadata": {},
   "source": [
    "import matplotlib.pyplot as plt\n",
    "from MONK_SVM_XGBoost import monk_project\n",
    "\n",
    "best_eval_results_acc, best_eval_results_mse = monk_project(3)\n",
    "\n",
    "epochs = range(1, len(best_eval_results_mse['validation_0']['logloss']) + 1)\n",
    "\n",
    "plt.figure(figsize=(10, 5))\n",
    "plt.plot(epochs, best_eval_results_mse['validation_0']['rmse'], label='RMSE train')\n",
    "plt.plot(epochs, best_eval_results_mse['validation_1']['rmse'], label='RMSE test')\n",
    "plt.xlabel(\"Epochs\")\n",
    "plt.ylabel(\"RMSE\")\n",
    "plt.title(\"XGBoost Learning Curve for best model on RMSE\")\n",
    "plt.legend()\n",
    "plt.grid()\n",
    "plt.show()"
   ],
   "outputs": [],
   "execution_count": null
  },
  {
   "cell_type": "code",
   "metadata": {},
   "source": [
    "plt.figure(figsize=(10, 5))\n",
    "plt.plot(epochs, best_eval_results_acc['validation_0']['error'], label='Error train ')\n",
    "plt.plot(epochs, best_eval_results_acc['validation_1']['error'], label='Error test')\n",
    "plt.xlabel(\"Epochs\")\n",
    "plt.ylabel(\"Error\")\n",
    "plt.title(\"XGBoost Learning Curve for best model on Error\")\n",
    "plt.legend()\n",
    "plt.grid()\n",
    "plt.show()"
   ],
   "outputs": [],
   "execution_count": null
  },
  {
   "cell_type": "code",
   "metadata": {},
   "source": [
    "import matplotlib.pyplot as plt\n",
    "from MONK_reg_SVM_XGBoost import monk_project\n",
    "\n",
    "best_eval_results_acc, best_eval_results_mse = monk_project(3)\n",
    "\n",
    "epochs = range(1, len(best_eval_results_mse['validation_0']['logloss']) + 1)\n",
    "\n",
    "plt.figure(figsize=(10, 5))\n",
    "plt.plot(epochs, best_eval_results_mse['validation_0']['rmse'], label='RMSE train')\n",
    "plt.plot(epochs, best_eval_results_mse['validation_1']['rmse'], label='RMSE test')\n",
    "plt.xlabel(\"Epochs\")\n",
    "plt.ylabel(\"RMSE\")\n",
    "plt.title(\"XGBoost Learning Curve for best model on RMSE\")\n",
    "plt.legend()\n",
    "plt.grid()\n",
    "plt.show()"
   ],
   "outputs": [],
   "execution_count": null
  },
  {
   "cell_type": "code",
   "metadata": {},
   "source": [
    "plt.figure(figsize=(10, 5))\n",
    "plt.plot(epochs, best_eval_results_acc['validation_0']['error'], label='Error train ')\n",
    "plt.plot(epochs, best_eval_results_acc['validation_1']['error'], label='Error test')\n",
    "plt.xlabel(\"Epochs\")\n",
    "plt.ylabel(\"Error\")\n",
    "plt.title(\"XGBoost Learning Curve for best model on Error\")\n",
    "plt.legend()\n",
    "plt.grid()\n",
    "plt.show()"
   ],
   "outputs": [],
   "execution_count": null
  }
 ],
 "metadata": {
  "kernelspec": {
   "display_name": "Python 3",
   "language": "python",
   "name": "python3"
  },
  "language_info": {
   "codemirror_mode": {
    "name": "ipython",
    "version": 3
   },
   "file_extension": ".py",
   "mimetype": "text/x-python",
   "name": "python",
   "nbconvert_exporter": "python",
   "pygments_lexer": "ipython3",
   "version": "3.12.9"
  }
 },
 "nbformat": 4,
 "nbformat_minor": 2
}
