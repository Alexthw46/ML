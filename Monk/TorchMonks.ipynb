{
 "cells": [
  {
   "cell_type": "code",
   "id": "initial_id",
   "metadata": {
    "collapsed": true
   },
   "source": [
    "from monktorch import *\n",
    "import torch\n",
    "from torch import optim\n",
    "from torch.optim import lr_scheduler\n",
    "from Monk.TorchNet import SimpleNN\n"
   ],
   "outputs": [],
   "execution_count": null
  },
  {
   "metadata": {},
   "cell_type": "code",
   "source": [
    "# setup cuda for torch\n",
    "\n",
    "if torch.cuda.is_available():\n",
    "    print(\"Cuda is available\")\n",
    "    device = torch.device(\"cuda\")\n",
    "else:\n",
    "    print(\"Cuda is not available\")\n",
    "    device = torch.device(\"cpu\")\n",
    "    \n",
    "torch.set_default_device(device)\n"
   ],
   "id": "18875922dbf8cd2f",
   "outputs": [],
   "execution_count": null
  },
  {
   "cell_type": "markdown",
   "source": [
    "# Monk 1"
   ],
   "metadata": {
    "collapsed": false
   },
   "id": "13c70f00b1e304df"
  },
  {
   "metadata": {},
   "cell_type": "code",
   "source": [
    "parameter_grid = {\n",
    "    \"learning_rate\": np.linspace(0.01, 0.6, 50),\n",
    "    \"momentum\": [0.0, 0.9, 0.8, 0.7],\n",
    "    \"nesterov\": [True, False]\n",
    "}\n",
    "print(parameter_grid)"
   ],
   "id": "dde14d3b58e0e309",
   "outputs": [],
   "execution_count": null
  },
  {
   "metadata": {},
   "cell_type": "code",
   "source": [
    "#try random seeds\n",
    "lowest_loss = 1\n",
    "lowest_avg_loss = 1\n",
    "for lr in parameter_grid[\"learning_rate\"]:\n",
    "    for momentum in parameter_grid[\"momentum\"]:\n",
    "        for nesterov in parameter_grid[\"nesterov\"]:\n",
    "            if nesterov and momentum == 0:\n",
    "                continue\n",
    "            loss_across_seeds = []\n",
    "            acc_across_seeds = []\n",
    "            overfit_across_seeds = []\n",
    "            for seed in [18, 30, 42, 69, 100]:\n",
    "                torch.manual_seed(seed)\n",
    "                model = SimpleNN(17, 3, 1)\n",
    "                optimizer = optim.SGD(model.parameters(), lr=lr, momentum=momentum, nesterov=nesterov and momentum > 0)\n",
    "                overfit, acc, loss, = monk(\"monks-1\", optimizer=optimizer, neural_network=model, num_epochs=500,\n",
    "                                           lr_scheduler=None,\n",
    "                                           verbose=False)\n",
    "                loss_across_seeds.append(loss)\n",
    "                acc_across_seeds.append(acc)\n",
    "                overfit_across_seeds.append(overfit)\n",
    "                if acc > 0.99 and overfit < 0.04:\n",
    "                    if loss < lowest_loss:\n",
    "                        lowest_loss = loss\n",
    "                        print(\n",
    "                            f\"New best seed: 3 neuron lr: {lr}, momentum: {momentum}, nesterov: {nesterov}, loss: {loss}, acc: {acc}, overfit: {overfit}, seed: {seed}\")\n",
    "\n",
    "            avg_acc = np.mean(acc_across_seeds)\n",
    "            avg_loss = np.mean(loss_across_seeds)\n",
    "            if avg_acc > 0.99 and avg_loss < lowest_avg_loss and np.mean(overfit_across_seeds) < 0.04:\n",
    "                lowest_avg_loss = avg_loss\n",
    "                print(f\"New best across: 3 neuron lr: {lr}, momentum: {momentum}, nesterov: {nesterov}, loss: {np.mean(loss_across_seeds)}, acc: {np.mean(acc_across_seeds)}\")\n"
   ],
   "id": "566d500869240163",
   "outputs": [],
   "execution_count": null
  },
  {
   "metadata": {},
   "cell_type": "code",
   "source": [
    "# selected best parameters between logged runs\n",
    "lr = 0.5687755102040817\n",
    "momentum = 0.85\n",
    "nesterov = False\n",
    "epochs = 220\n",
    "torch.manual_seed(30)\n",
    "model = SimpleNN(17, 3, 1)\n",
    "optimizer = optim.SGD(model.parameters(), lr=lr, momentum=momentum, nesterov=nesterov)\n",
    "monk(\"monks-1\", optimizer=optimizer, neural_network=model, num_epochs=epochs, lr_scheduler=None)"
   ],
   "id": "f5827bf62133ccb9",
   "outputs": [],
   "execution_count": null
  },
  {
   "metadata": {},
   "cell_type": "code",
   "source": "",
   "id": "677bdfa0b9c75922",
   "outputs": [],
   "execution_count": null
  },
  {
   "cell_type": "markdown",
   "source": [
    "# Monk 2"
   ],
   "metadata": {
    "collapsed": false
   },
   "id": "d426408d67cfa395"
  },
  {
   "metadata": {},
   "cell_type": "code",
   "source": [
    "#try random seeds\n",
    "lowest_loss = 1\n",
    "lowest_avg_loss = 1\n",
    "\n",
    "for lr in parameter_grid[\"learning_rate\"]:\n",
    "    for momentum in parameter_grid[\"momentum\"]:\n",
    "        for nesterov in parameter_grid[\"nesterov\"]:\n",
    "            if nesterov and momentum == 0:\n",
    "                continue\n",
    "            loss_across_seeds = []\n",
    "            acc_across_seeds = []\n",
    "            overfit_across_seeds = []\n",
    "            for seed in [18, 30, 42, 69, 100]:\n",
    "                torch.manual_seed(seed)\n",
    "                model = SimpleNN(17, 4, 1)\n",
    "                optimizer = optim.SGD(model.parameters(), lr=lr, momentum=momentum, nesterov=nesterov and momentum > 0)\n",
    "                overfit, acc, loss, = monk(\"monks-2\", optimizer=optimizer, neural_network=model, num_epochs=100,\n",
    "                                           lr_scheduler=None,\n",
    "                                           verbose=False)\n",
    "                loss_across_seeds.append(loss)\n",
    "                acc_across_seeds.append(acc)\n",
    "                overfit_across_seeds.append(overfit)\n",
    "                if acc > 0.98 and overfit < 0.01:\n",
    "                    if loss < lowest_loss:\n",
    "                        lowest_loss = loss\n",
    "                        print(\n",
    "                            f\"New best seed 4 neuron lr: {lr}, momentum: {momentum}, nesterov: {nesterov}, loss: {loss}, acc: {acc}, overfit: {overfit} seed: {seed}\")\n",
    "\n",
    "            avg_acc = np.mean(acc_across_seeds)\n",
    "            avg_loss = np.mean(loss_across_seeds)\n",
    "            if avg_acc > 0.98 and avg_loss < lowest_avg_loss and np.mean(overfit_across_seeds) < 0.01:\n",
    "                lowest_avg_loss = avg_loss\n",
    "                print(f\"New best average 4 neuron lr: {lr}, momentum: {momentum}, nesterov: {nesterov}, loss: {avg_loss}, acc: {avg_acc}\")"
   ],
   "id": "d9cdb9d3b30ea6a9",
   "outputs": [],
   "execution_count": null
  },
  {
   "metadata": {},
   "cell_type": "code",
   "source": [
    "# selected best parameters between logged runs\n",
    "lr = 0.6\n",
    "momentum = 0.9\n",
    "nesterov = False\n",
    "epochs = 100\n",
    "torch.manual_seed(69)\n",
    "model = SimpleNN(17, 4, 1)\n",
    "optimizer = optim.SGD(model.parameters(), lr=lr, momentum=momentum, nesterov=nesterov)\n",
    "monk(\"monks-2\", optimizer=optimizer, neural_network=model, num_epochs=epochs, lr_scheduler=None)"
   ],
   "id": "a617398c3db5a807",
   "outputs": [],
   "execution_count": null
  },
  {
   "metadata": {
    "collapsed": false
   },
   "cell_type": "code",
   "source": [
    "lr = 0.6\n",
    "momentum = 0.9\n",
    "nesterov = False\n",
    "epochs = 100\n",
    "torch.manual_seed(100)\n",
    "model = SimpleNN(17, 2, 1)\n",
    "optimizer = optim.SGD(model.parameters(), lr=lr, momentum=momentum, nesterov=nesterov)\n",
    "monk(\"monks-2\", optimizer=optimizer, neural_network=model, num_epochs=epochs, lr_scheduler=None)"
   ],
   "id": "3624f5899feec947",
   "outputs": [],
   "execution_count": null
  },
  {
   "cell_type": "markdown",
   "source": [
    "# Monk3"
   ],
   "metadata": {
    "collapsed": false
   },
   "id": "dd2c62350d647c82"
  },
  {
   "metadata": {},
   "cell_type": "code",
   "source": [
    "# without regularization\n",
    "lowest_loss = 1\n",
    "lowest_avg_loss = 1\n",
    "for lr in parameter_grid[\"learning_rate\"]:\n",
    "    for momentum in parameter_grid[\"momentum\"]:\n",
    "        for nesterov in parameter_grid[\"nesterov\"]:\n",
    "            if nesterov and momentum == 0:\n",
    "                continue\n",
    "            loss_across_seeds = []\n",
    "            acc_across_seeds = []\n",
    "            overfit_across_seeds = []\n",
    "            for seed in [18, 30, 42, 69, 100]:\n",
    "                torch.manual_seed(seed)\n",
    "                model = SimpleNN(17, 3, 1)\n",
    "                optimizer = optim.SGD(model.parameters(), lr=lr, momentum=momentum, nesterov=nesterov and momentum > 0)\n",
    "                overfit, acc, loss, = monk(\"monks-3\", optimizer=optimizer, neural_network=model, num_epochs=500,\n",
    "                                           lr_scheduler=None,\n",
    "                                           verbose=False)\n",
    "                loss_across_seeds.append(loss)\n",
    "                acc_across_seeds.append(acc)\n",
    "                overfit_across_seeds.append(overfit)\n",
    "\n",
    "                if acc > 0.95 and overfit < 0.03:\n",
    "                    if loss < lowest_loss:\n",
    "                        lowest_loss = loss\n",
    "                        print(\n",
    "                            f\"Best seed 3 neuron lr: {lr}, momentum: {momentum}, nesterov: {nesterov}, loss: {loss}, acc: {acc}, overfit: {overfit}, seed: {seed}\")\n",
    "            avg_acc = np.mean(acc_across_seeds)\n",
    "            avg_loss = np.mean(loss_across_seeds)\n",
    "            if avg_acc > 0.95 and avg_loss < lowest_avg_loss and np.mean(overfit_across_seeds) < 0.03:\n",
    "                lowest_avg_loss = avg_loss\n",
    "                print(f\"Best overall 3 neuron lr: {lr}, momentum: {momentum}, nesterov: {nesterov}, loss: {avg_loss}, acc: {avg_acc}\")\n"
   ],
   "id": "f510aeab86ceb95a",
   "outputs": [],
   "execution_count": null
  },
  {
   "cell_type": "code",
   "source": [
    "lr = 0.058163265306122446\n",
    "momentum = 0.9\n",
    "nesterov = False\n",
    "epochs = 150\n",
    "torch.manual_seed(42)\n",
    "model = SimpleNN(17, 3, 1)\n",
    "optimizer = optim.SGD(model.parameters(), lr=lr, momentum=momentum, nesterov=nesterov)\n",
    "monk(\"monks-3\", optimizer=optimizer, neural_network=model, num_epochs=epochs, lr_scheduler=None)"
   ],
   "metadata": {
    "collapsed": false
   },
   "id": "c51265318b9c56c8",
   "outputs": [],
   "execution_count": null
  },
  {
   "metadata": {},
   "cell_type": "code",
   "source": [
    "# add regularization to grid parameters\n",
    "parameter_grid = {\n",
    "    \"learning_rate\": np.linspace(0.2, 0.05, 30),\n",
    "    \"momentum\": [0.0, 0.9, 0.8, 0.7],\n",
    "    \"nesterov\": [True, False],\n",
    "    \"decay\": np.linspace(0.001, 0.0001, 10)\n",
    "}"
   ],
   "id": "d79cc361b387308c",
   "outputs": [],
   "execution_count": null
  },
  {
   "metadata": {},
   "cell_type": "code",
   "source": [
    "lowest_loss = 1\n",
    "lowest_avg_loss = 1\n",
    "for lr in parameter_grid[\"learning_rate\"]:\n",
    "    for decay in parameter_grid[\"decay\"]:\n",
    "        for momentum in parameter_grid[\"momentum\"]:\n",
    "            for nesterov in parameter_grid[\"nesterov\"]:\n",
    "                if nesterov and momentum == 0:\n",
    "                    continue\n",
    "\n",
    "                loss_across_seeds = []\n",
    "                acc_across_seeds = []\n",
    "                overfit_across_seeds = []\n",
    "                for seed in [18, 30, 42, 69, 100]:\n",
    "                    torch.manual_seed(seed)\n",
    "                    model = SimpleNN(17, 3, 1)\n",
    "                    optimizer = optim.SGD(model.parameters(), lr=lr, momentum=momentum, nesterov=nesterov and momentum > 0,\n",
    "                                          weight_decay=decay)\n",
    "                    overfit, acc, loss, = monk(\"monks-3\", optimizer=optimizer, neural_network=model, num_epochs=500,\n",
    "                                               lr_scheduler=None,\n",
    "                                               verbose=False)\n",
    "                    loss_across_seeds.append(loss)\n",
    "                    acc_across_seeds.append(acc)\n",
    "                    overfit_across_seeds.append(overfit)\n",
    "                    if acc > 0.965 and overfit < 0.01:\n",
    "                        if loss < lowest_loss:\n",
    "                            lowest_loss = loss\n",
    "                            print(\n",
    "                                f\" Best seed 3 neuron lr: {lr}, momentum: {momentum}, nesterov: {nesterov}, decay: {decay}, loss: {loss}, acc: {acc}, overfit: {overfit}, seed: {seed}\")\n",
    "\n",
    "                avg_acc = np.mean(acc_across_seeds)\n",
    "                avg_loss = np.mean(loss_across_seeds)\n",
    "                if avg_acc > 0.965 and avg_loss < lowest_avg_loss and np.mean(overfit_across_seeds) < 0.01:\n",
    "                    lowest_avg_loss = avg_loss\n",
    "                    print(f\"Best overall 3 neuron lr: {lr}, momentum: {momentum}, nesterov: {nesterov}, decay: {decay}, loss: {avg_loss}, acc: {avg_acc}\")\n"
   ],
   "id": "56c1e63ec7aebe2e",
   "outputs": [],
   "execution_count": null
  },
  {
   "metadata": {},
   "cell_type": "code",
   "source": [
    "decay = 0.0005\n",
    "lr = 0.2\n",
    "momentum = 0.\n",
    "nesterov = False\n",
    "torch.manual_seed(30)\n",
    "model = SimpleNN(17, 3, 1)\n",
    "optimizer = optim.SGD(model.parameters(), lr=lr, momentum=momentum, weight_decay=decay, nesterov=nesterov)\n",
    "monk(\"monks-3\", optimizer=optimizer, neural_network=model, num_epochs=350, lr_scheduler=None)"
   ],
   "id": "81231c02505d214",
   "outputs": [],
   "execution_count": null
  }
 ],
 "metadata": {
  "kernelspec": {
   "display_name": "Python 3",
   "language": "python",
   "name": "python3"
  },
  "language_info": {
   "codemirror_mode": {
    "name": "ipython",
    "version": 2
   },
   "file_extension": ".py",
   "mimetype": "text/x-python",
   "name": "python",
   "nbconvert_exporter": "python",
   "pygments_lexer": "ipython2",
   "version": "2.7.6"
  }
 },
 "nbformat": 4,
 "nbformat_minor": 5
}
